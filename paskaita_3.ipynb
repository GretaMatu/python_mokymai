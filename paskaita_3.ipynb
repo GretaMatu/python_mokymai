{
 "cells": [
  {
   "cell_type": "code",
   "execution_count": 5,
   "metadata": {},
   "outputs": [
    {
     "name": "stdout",
     "output_type": "stream",
     "text": [
      "Sveikiname Vilnius su kazkokia svente\n",
      "pradedam sekancia ciklo iteracija\n",
      "Sveikiname Kaunas su kazkokia svente\n",
      "pradedam sekancia ciklo iteracija\n",
      "Sveikiname Siauliai su kazkokia svente\n",
      "pradedam sekancia ciklo iteracija\n",
      "Sveikiname Marijampole su kazkokia svente\n",
      "pradedam sekancia ciklo iteracija\n",
      "Sveikiname Panevezys su kazkokia svente\n",
      "pradedam sekancia ciklo iteracija\n",
      "po ciklo\n"
     ]
    }
   ],
   "source": [
    "cities = ['Vilnius', 'Kaunas', 'Siauliai', 'Marijampole', 'Panevezys']\n",
    "\n",
    "for city in cities:\n",
    "    print(f'Sveikiname {city} su kazkokia svente')\n",
    "    print('pradedam sekancia ciklo iteracija')\n",
    "print('po ciklo')"
   ]
  },
  {
   "cell_type": "code",
   "execution_count": 8,
   "metadata": {},
   "outputs": [
    {
     "name": "stdout",
     "output_type": "stream",
     "text": [
      "1275\n"
     ]
    }
   ],
   "source": [
    "suma = 0\n",
    "for number in range (1,51):\n",
    "    suma += number\n",
    "print(suma)"
   ]
  },
  {
   "cell_type": "code",
   "execution_count": 7,
   "metadata": {},
   "outputs": [
    {
     "name": "stdout",
     "output_type": "stream",
     "text": [
      "1\n",
      "2\n",
      "3\n",
      "4\n",
      "5\n",
      "6\n",
      "7\n",
      "8\n",
      "9\n",
      "10\n"
     ]
    }
   ],
   "source": [
    "for number in range (1,11):\n",
    "    print(number)"
   ]
  },
  {
   "cell_type": "code",
   "execution_count": 13,
   "metadata": {},
   "outputs": [
    {
     "name": "stdout",
     "output_type": "stream",
     "text": [
      "6\n",
      "6 * 1 = 6\n",
      "6 * 2 = 12\n",
      "6 * 3 = 18\n",
      "6 * 4 = 24\n",
      "6 * 5 = 30\n",
      "6 * 6 = 36\n",
      "6 * 7 = 42\n",
      "6 * 8 = 48\n",
      "6 * 9 = 54\n",
      "6 * 10 = 60\n"
     ]
    }
   ],
   "source": [
    "inputt_number = int (input('Iveskite skaiciu:'))\n",
    "print(inputt_number)\n",
    "\n",
    "for number in range (1,11):\n",
    "    print (f'{inputt_number} * {number} = {inputt_number * number}')"
   ]
  },
  {
   "cell_type": "code",
   "execution_count": 16,
   "metadata": {},
   "outputs": [
    {
     "name": "stdout",
     "output_type": "stream",
     "text": [
      "[('Pirmadienis', 10), ('Pirmadienis', 11), ('Pirmadienis', 12), ('Pirmadienis', 13), ('Pirmadienis', 14), ('Pirmadienis', 15), ('Pirmadienis', 16), ('Pirmadienis', 17), ('Pirmadienis', 18), ('Pirmadienis', 19), ('Antradienis', 10), ('Antradienis', 11), ('Antradienis', 12), ('Antradienis', 13), ('Antradienis', 14), ('Antradienis', 15), ('Antradienis', 16), ('Antradienis', 17), ('Antradienis', 18), ('Antradienis', 19), ('Treciadienis', 10), ('Treciadienis', 11), ('Treciadienis', 12), ('Treciadienis', 13), ('Treciadienis', 14), ('Treciadienis', 15), ('Treciadienis', 16), ('Treciadienis', 17), ('Treciadienis', 18), ('Treciadienis', 19), ('Ketvirtadienis', 10), ('Ketvirtadienis', 11), ('Ketvirtadienis', 12), ('Ketvirtadienis', 13), ('Ketvirtadienis', 14), ('Ketvirtadienis', 15), ('Ketvirtadienis', 16), ('Ketvirtadienis', 17), ('Ketvirtadienis', 18), ('Ketvirtadienis', 19), ('Penktadienis', 10), ('Penktadienis', 11), ('Penktadienis', 12), ('Penktadienis', 13), ('Penktadienis', 14), ('Penktadienis', 15), ('Penktadienis', 16), ('Penktadienis', 17), ('Penktadienis', 18), ('Penktadienis', 19), ('Sestadienis', 10), ('Sestadienis', 11), ('Sestadienis', 12), ('Sestadienis', 13), ('Sestadienis', 14), ('Sestadienis', 15), ('Sestadienis', 16), ('Sestadienis', 17), ('Sestadienis', 18), ('Sestadienis', 19), ('Sekmadienis', 10), ('Sekmadienis', 11), ('Sekmadienis', 12), ('Sekmadienis', 13), ('Sekmadienis', 14), ('Sekmadienis', 15), ('Sekmadienis', 16), ('Sekmadienis', 17), ('Sekmadienis', 18), ('Sekmadienis', 19)]\n"
     ]
    }
   ],
   "source": [
    "dienos = ('Pirmadienis', 'Antradienis', 'Treciadienis', 'Ketvirtadienis', 'Penktadienis', 'Sestadienis' , 'Sekmadienis')\n",
    "valandos = [10, 11, 12, 13, 14, 15, 16, 17, 18, 19]\n",
    "\n",
    "kombinacijos = []\n",
    "\n",
    "for diena in dienos:\n",
    "    for valanda in valandos:\n",
    "        kombinacijos.append ((diena,valanda))\n",
    "        #print (diena, valanda)\n",
    "print (kombinacijos)\n"
   ]
  },
  {
   "cell_type": "code",
   "execution_count": 22,
   "metadata": {},
   "outputs": [
    {
     "name": "stdout",
     "output_type": "stream",
     "text": [
      "x yra daugiau uz du\n",
      "po if salygos\n"
     ]
    }
   ],
   "source": [
    "# If Salyga\n",
    "\n",
    "x = 5\n",
    "\n",
    "if x > 2:\n",
    "    print('x yra daugiau uz du')\n",
    "\n",
    "print('po if salygos')"
   ]
  },
  {
   "cell_type": "code",
   "execution_count": 26,
   "metadata": {},
   "outputs": [
    {
     "name": "stdout",
     "output_type": "stream",
     "text": [
      "x nera daugiau uz du\n"
     ]
    }
   ],
   "source": [
    "x = 0\n",
    "\n",
    "if x > 2:\n",
    "    print('x yra daugiau uz du')\n",
    "else:\n",
    "    print('x nera daugiau uz du')"
   ]
  },
  {
   "cell_type": "code",
   "execution_count": 29,
   "metadata": {},
   "outputs": [
    {
     "name": "stdout",
     "output_type": "stream",
     "text": [
      "atitinka antra elif salyga\n",
      "po if salygos\n"
     ]
    }
   ],
   "source": [
    "x  = 0\n",
    "y = 38\n",
    "\n",
    "if x > 10:\n",
    "    print('if salyga atitinka')\n",
    "elif x > 0 and y > 10:\n",
    "    print ('atitinka elif salyga')\n",
    "elif x > -5 and y > 30:\n",
    "    print ('atitinka antra elif salyga')\n",
    "else:\n",
    "    print ('else salyga')\n",
    "\n",
    "print('po if salygos')\n",
    "\n"
   ]
  },
  {
   "cell_type": "code",
   "execution_count": 30,
   "metadata": {},
   "outputs": [
    {
     "name": "stdout",
     "output_type": "stream",
     "text": [
      "3\n",
      "6\n",
      "9\n",
      "12\n",
      "15\n",
      "18\n"
     ]
    }
   ],
   "source": [
    "for number in range (1,21):\n",
    "    if number % 3 == 0:\n",
    "        print(number)"
   ]
  },
  {
   "cell_type": "code",
   "execution_count": 32,
   "metadata": {},
   "outputs": [
    {
     "name": "stdout",
     "output_type": "stream",
     "text": [
      "650\n"
     ]
    }
   ],
   "source": [
    "suma = 0\n",
    "for number in range (1,51):\n",
    "    if (suma + number) % 2 == 0:\n",
    "        suma += number\n",
    "print(suma)"
   ]
  },
  {
   "cell_type": "code",
   "execution_count": 36,
   "metadata": {},
   "outputs": [
    {
     "name": "stdout",
     "output_type": "stream",
     "text": [
      "7\n",
      "7 * 1 = 7\n",
      "7 * 2 = 14\n",
      "7 * 3 = 21\n",
      "7 * 4 = 28\n",
      "7 * 5 = 35\n",
      "7 * 6 = 42\n",
      "7 * 7 = 49\n",
      "7 * 8 = 56\n",
      "7 * 9 = 63\n",
      "7 * 10 = 70\n"
     ]
    }
   ],
   "source": [
    "inputt_number = int (input('Iveskite skaiciu:'))\n",
    "print(inputt_number)\n",
    "\n",
    "if (inputt_number ** 2) % 2 != 0:\n",
    "    for number in range (1,11):\n",
    "        print (f'{inputt_number} * {number} = {inputt_number * number}')\n",
    "else:\n",
    "    print('skaicius pakeltas kvadratu yra lyginis')"
   ]
  },
  {
   "cell_type": "code",
   "execution_count": 41,
   "metadata": {},
   "outputs": [
    {
     "name": "stdout",
     "output_type": "stream",
     "text": [
      "[('Pirmadienis', 12), ('Pirmadienis', 13), ('Pirmadienis', 14), ('Pirmadienis', 15), ('Pirmadienis', 16), ('Pirmadienis', 17), ('Treciadienis', 12), ('Treciadienis', 13), ('Treciadienis', 14), ('Treciadienis', 15), ('Treciadienis', 16), ('Treciadienis', 17)]\n"
     ]
    }
   ],
   "source": [
    "dienos = ('Pirmadienis', 'Antradienis', 'Treciadienis', 'Ketvirtadienis', 'Penktadienis', 'Sestadienis' , 'Sekmadienis')\n",
    "valandos = [10, 11, 12, 13, 14, 15, 16, 17, 18, 19]\n",
    "\n",
    "kombinacijos = []\n",
    "\n",
    "for diena in dienos:\n",
    "    #if diena == 'Pirmadienis' or diena == 'Treciadienis':\n",
    "    if diena in ['Pirmadienis', 'Treciadienis']:\n",
    "        for valanda in valandos:\n",
    "            if valanda in range (12,18):\n",
    "                kombinacijos.append ((diena,valanda))\n",
    "        #print (diena, valanda)\n",
    "print (kombinacijos)\n"
   ]
  },
  {
   "cell_type": "markdown",
   "metadata": {},
   "source": [
    "# None"
   ]
  },
  {
   "cell_type": "code",
   "execution_count": 43,
   "metadata": {},
   "outputs": [
    {
     "name": "stdout",
     "output_type": "stream",
     "text": [
      "None\n",
      "<class 'NoneType'>\n"
     ]
    }
   ],
   "source": [
    "niekas = None\n",
    "print(niekas)\n",
    "print(type(niekas))"
   ]
  },
  {
   "cell_type": "code",
   "execution_count": null,
   "metadata": {},
   "outputs": [],
   "source": [
    "user_name = ''\n",
    "name = input('Irasykite varda')\n",
    "\n",
    "if user_name:\n"
   ]
  },
  {
   "cell_type": "code",
   "execution_count": null,
   "metadata": {},
   "outputs": [],
   "source": [
    "name = \"\"\n",
    "for i in range (5):\n",
    "    if name == None:\n",
    "        print(f'variable 'name' has no value (None), assigning name)\n",
    "        value = input(\"Enter your name:\")\n",
    "        if value:\n",
    "            name = values\n",
    "    else:\n",
    "        print(f'variable 'name' has value)"
   ]
  },
  {
   "cell_type": "markdown",
   "metadata": {},
   "source": [
    "# List comprehension "
   ]
  },
  {
   "cell_type": "code",
   "execution_count": 46,
   "metadata": {},
   "outputs": [
    {
     "name": "stdout",
     "output_type": "stream",
     "text": [
      "[3, 6, 9, 12, 15, 18]\n"
     ]
    }
   ],
   "source": [
    "numbers = list(range(1,21))\n",
    "dividible_by_3 = []\n",
    "for number in numbers:\n",
    "    if number % 3 == 0:\n",
    "        dividible_by_3.append(number)\n",
    "print(dividible_by_3)"
   ]
  },
  {
   "cell_type": "code",
   "execution_count": 54,
   "metadata": {},
   "outputs": [
    {
     "name": "stdout",
     "output_type": "stream",
     "text": [
      "[0.5, 1.0, 1.5, 2.0, 2.5, 3.0, 3.5, 4.0, 4.5, 5.0, 5.5, 6.0, 6.5, 7.0, 7.5, 8.0, 8.5, 9.0, 9.5, 10.0]\n",
      "[3, 6, 9, 12, 15, 18]\n",
      "[9, 36, 81, 144, 225, 324]\n",
      "[(3, 9), (6, 36), (9, 81), (12, 144), (15, 225), (18, 324)]\n"
     ]
    }
   ],
   "source": [
    "dividible_by_3 = [number/2 for number in numbers]\n",
    "print(dividible_by_3)\n",
    "\n",
    "dividible_by_3 = [number for number in numbers if number % 3 == 0]\n",
    "print(dividible_by_3)\n",
    "\n",
    "dividible_by_3 = [number ** 2 for number in numbers if number % 3 == 0]\n",
    "print(dividible_by_3)\n",
    "\n",
    "dividible_by_3 = [(number, number ** 2) for number in numbers if number % 3 == 0]\n",
    "print(dividible_by_3)"
   ]
  },
  {
   "cell_type": "code",
   "execution_count": 55,
   "metadata": {},
   "outputs": [
    {
     "name": "stdout",
     "output_type": "stream",
     "text": [
      "[100, 100, 3, 100, 100, 6, 100, 100, 9, 100, 100, 12, 100, 100, 15, 100, 100, 18, 100, 100]\n"
     ]
    }
   ],
   "source": [
    "dividible_by_3 = [number if number % 3 == 0 else 100 for number in numbers ]\n",
    "print(dividible_by_3)"
   ]
  },
  {
   "cell_type": "code",
   "execution_count": 61,
   "metadata": {},
   "outputs": [
    {
     "name": "stdout",
     "output_type": "stream",
     "text": [
      "[5, 4, 8, 3, 10, 8, 16, 6, 15, 12, 24, 9, 20, 16, 32, 12]\n",
      "[5, 8, 24, 12]\n"
     ]
    }
   ],
   "source": [
    "x_axis = [1,2,3,4]\n",
    "y_axis = (5,4,8,3)\n",
    "mult = [x*y for x in x_axis for y in y_axis]\n",
    "print(mult)\n",
    "\n",
    "mult = [x*y for x,y in zip(x_axis, y_axis)]\n",
    "print(mult)"
   ]
  },
  {
   "cell_type": "markdown",
   "metadata": {},
   "source": [
    "# Dictionary"
   ]
  },
  {
   "cell_type": "code",
   "execution_count": 65,
   "metadata": {},
   "outputs": [
    {
     "name": "stdout",
     "output_type": "stream",
     "text": [
      "<class 'dict'>\n",
      "{'name': 'Greta', 'surname': 'Matuzeviciene', 'age': 30, 'hobbies': ['books', 'badminton', 'puzzles']}\n"
     ]
    }
   ],
   "source": [
    "my_dictionary = {'name': 'Greta',\n",
    "    'surname' : 'Matuzeviciene',\n",
    "    'age' : 30,\n",
    "    'hobbies' : ['books', 'badminton', 'puzzles']}\n",
    "\n",
    "print(type(my_dictionary))\n",
    "print(my_dictionary)"
   ]
  },
  {
   "cell_type": "code",
   "execution_count": 66,
   "metadata": {},
   "outputs": [
    {
     "name": "stdout",
     "output_type": "stream",
     "text": [
      "Greta\n",
      "['books', 'badminton', 'puzzles']\n"
     ]
    }
   ],
   "source": [
    "print(my_dictionary['name'])\n",
    "print(my_dictionary['hobbies'])"
   ]
  },
  {
   "cell_type": "code",
   "execution_count": 69,
   "metadata": {},
   "outputs": [
    {
     "name": "stdout",
     "output_type": "stream",
     "text": [
      "{'name': 'Greta', 'surname': 'Matuzeviciene', 'age': 26, 'hobbies': ['books', 'badminton', 'puzzles']}\n"
     ]
    }
   ],
   "source": [
    "my_dictionary['age'] = 26\n",
    "print(my_dictionary)"
   ]
  },
  {
   "cell_type": "code",
   "execution_count": 71,
   "metadata": {},
   "outputs": [
    {
     "name": "stdout",
     "output_type": "stream",
     "text": [
      "{'name': 'Greta', 'surname': 'Matuzeviciene', 'age': 26, 'hobbies': ['books', 'badminton', 'puzzles'], 'city': 'Vilnius'}\n",
      "5\n"
     ]
    }
   ],
   "source": [
    "my_dictionary['city'] = 'Vilnius'\n",
    "print(my_dictionary)\n",
    "print (len(my_dictionary))"
   ]
  },
  {
   "cell_type": "code",
   "execution_count": 72,
   "metadata": {},
   "outputs": [
    {
     "data": {
      "text/plain": [
       "{'name': 'Greta',\n",
       " 'surname': 'Matuzeviciene',\n",
       " 'age': 26,\n",
       " 'hobbies': ['books', 'badminton', 'puzzles'],\n",
       " 'city': 'Vilnius'}"
      ]
     },
     "execution_count": 72,
     "metadata": {},
     "output_type": "execute_result"
    }
   ],
   "source": [
    "my_dictionary.copy()"
   ]
  },
  {
   "cell_type": "code",
   "execution_count": 74,
   "metadata": {},
   "outputs": [
    {
     "name": "stdout",
     "output_type": "stream",
     "text": [
      "Vilnius\n"
     ]
    }
   ],
   "source": [
    "print (my_dictionary.get('city'))"
   ]
  },
  {
   "cell_type": "code",
   "execution_count": 75,
   "metadata": {},
   "outputs": [
    {
     "ename": "KeyError",
     "evalue": "'car'",
     "output_type": "error",
     "traceback": [
      "\u001b[1;31m---------------------------------------------------------------------------\u001b[0m",
      "\u001b[1;31mKeyError\u001b[0m                                  Traceback (most recent call last)",
      "\u001b[1;32mc:\\Users\\Greta\\Desktop\\Document Phyton\\python_mokymai\\paskaita_3.ipynb Cell 29'\u001b[0m in \u001b[0;36m<module>\u001b[1;34m\u001b[0m\n\u001b[1;32m----> <a href='vscode-notebook-cell:/c%3A/Users/Greta/Desktop/Document%20Phyton/python_mokymai/paskaita_3.ipynb#ch0000032?line=0'>1</a>\u001b[0m \u001b[39mprint\u001b[39m (my_dictionary[\u001b[39m'\u001b[39;49m\u001b[39mcar\u001b[39;49m\u001b[39m'\u001b[39;49m])\n",
      "\u001b[1;31mKeyError\u001b[0m: 'car'"
     ]
    }
   ],
   "source": [
    "print (my_dictionary['car'])"
   ]
  },
  {
   "cell_type": "code",
   "execution_count": 77,
   "metadata": {},
   "outputs": [
    {
     "name": "stdout",
     "output_type": "stream",
     "text": [
      "None\n",
      "No car\n"
     ]
    }
   ],
   "source": [
    "print (my_dictionary.get('car'))\n",
    "print (my_dictionary.get('car', 'No car'))"
   ]
  },
  {
   "cell_type": "code",
   "execution_count": 80,
   "metadata": {},
   "outputs": [
    {
     "name": "stdout",
     "output_type": "stream",
     "text": [
      "{'name': 'Greta', 'surname': 'Matuzeviciene', 'age': 26, 'hobbies': ['books', 'badminton', 'puzzles'], 'city': 'Vilnius', 10: 'desimt'}\n",
      "desimt\n",
      "{'name': 'Greta', 'surname': 'Matuzeviciene', 'age': 26, 'hobbies': ['books', 'badminton', 'puzzles'], 'city': 'Vilnius'}\n"
     ]
    }
   ],
   "source": [
    "my_dictionary[10] = 'desimt'\n",
    "print(my_dictionary)\n",
    "print(my_dictionary.pop(10))\n",
    "print(my_dictionary)"
   ]
  },
  {
   "cell_type": "code",
   "execution_count": 85,
   "metadata": {},
   "outputs": [
    {
     "name": "stdout",
     "output_type": "stream",
     "text": [
      "{'name': 'Greta', 'surname': 'Matuzeviciene', 'age': 26, None: 'niekas'}\n",
      "{'name': 'Greta', 'surname': 'Matuzeviciene', 'age': 26}\n",
      "None niekas\n"
     ]
    }
   ],
   "source": [
    "my_dictionary[None] = 'niekas'\n",
    "print(my_dictionary)\n",
    "key, value = my_dictionary.popitem()\n",
    "print(my_dictionary)\n",
    "print(key, value)"
   ]
  },
  {
   "cell_type": "code",
   "execution_count": 87,
   "metadata": {},
   "outputs": [
    {
     "name": "stdout",
     "output_type": "stream",
     "text": [
      "{'name': 'Greta', 'surname': 'Matuzeviciene', 'age': 26, 'hobbies': ['puzzles', 'books']}\n"
     ]
    }
   ],
   "source": [
    "new_dictionary = {\n",
    "    'age' : 26,\n",
    "    'hobbies' : ['puzzles', 'books']\n",
    "}\n",
    "\n",
    "my_dictionary.update(new_dictionary)\n",
    "\n",
    "print(my_dictionary)"
   ]
  },
  {
   "cell_type": "code",
   "execution_count": 88,
   "metadata": {},
   "outputs": [
    {
     "name": "stdout",
     "output_type": "stream",
     "text": [
      "Greta\n",
      "Matuzeviciene\n",
      "26\n",
      "['puzzles', 'books']\n"
     ]
    }
   ],
   "source": [
    "for value in my_dictionary.values():\n",
    "    print(value)"
   ]
  },
  {
   "cell_type": "code",
   "execution_count": 89,
   "metadata": {},
   "outputs": [
    {
     "name": "stdout",
     "output_type": "stream",
     "text": [
      "name\n",
      "surname\n",
      "age\n",
      "hobbies\n"
     ]
    }
   ],
   "source": [
    "for key in my_dictionary.keys():\n",
    "    print(key)"
   ]
  },
  {
   "cell_type": "code",
   "execution_count": 90,
   "metadata": {},
   "outputs": [
    {
     "name": "stdout",
     "output_type": "stream",
     "text": [
      "key name has a value of Greta\n",
      "key surname has a value of Matuzeviciene\n",
      "key age has a value of 26\n",
      "key hobbies has a value of ['puzzles', 'books']\n"
     ]
    }
   ],
   "source": [
    "for k, v in my_dictionary.items(): # k - key, v - value\n",
    "    print(f'key {k} has a value of {v}')"
   ]
  },
  {
   "cell_type": "code",
   "execution_count": 106,
   "metadata": {},
   "outputs": [
    {
     "name": "stdout",
     "output_type": "stream",
     "text": [
      "Ford\n",
      "3\n",
      "{'brand': 'Ford', 'model': 'Mustang', 'year': 2022}\n"
     ]
    }
   ],
   "source": [
    "car =\t{\n",
    "  \"brand\": \"Ford\",\n",
    "  \"model\": \"Mustang\",\n",
    "  \"year\": 1964\n",
    "}\n",
    "\n",
    "print(car['brand'])\n",
    "print(len(car))\n",
    "car[\"year\"] = 2022\n",
    "print(car)\n",
    "\n",
    "\n"
   ]
  },
  {
   "cell_type": "code",
   "execution_count": 109,
   "metadata": {},
   "outputs": [
    {
     "name": "stdout",
     "output_type": "stream",
     "text": [
      "{'brand': 'Ford', 'model': 'Mustang', 'year': 2022, 'color': 'red', 'used': True}\n"
     ]
    }
   ],
   "source": [
    "car['color'] = 'red'\n",
    "car['used'] = True\n",
    "\n",
    "print(car)"
   ]
  },
  {
   "cell_type": "code",
   "execution_count": 111,
   "metadata": {},
   "outputs": [
    {
     "name": "stdout",
     "output_type": "stream",
     "text": [
      "{'brand': 'Ford', 'model': 'Mustang', 'year': 2022, 'color': 'red', 'used': True}\n",
      "{'model': 'Mustang', 'year': None, 'color': 'red', 'used': True}\n"
     ]
    }
   ],
   "source": [
    "print(car)\n",
    "\n",
    "car.pop('brand')\n",
    "car['year'] = None\n",
    "print(car)"
   ]
  },
  {
   "cell_type": "code",
   "execution_count": null,
   "metadata": {},
   "outputs": [],
   "source": []
  }
 ],
 "metadata": {
  "interpreter": {
   "hash": "70a6c9a37cb58f7fafd514d0bfb6be7e5d3796d2f32086c8e99fdf34e5a26a64"
  },
  "kernelspec": {
   "display_name": "Python 3.10.2 64-bit",
   "language": "python",
   "name": "python3"
  },
  "language_info": {
   "codemirror_mode": {
    "name": "ipython",
    "version": 3
   },
   "file_extension": ".py",
   "mimetype": "text/x-python",
   "name": "python",
   "nbconvert_exporter": "python",
   "pygments_lexer": "ipython3",
   "version": "3.10.2"
  },
  "orig_nbformat": 4
 },
 "nbformat": 4,
 "nbformat_minor": 2
}
