{
 "cells": [
  {
   "cell_type": "markdown",
   "metadata": {},
   "source": [
    "# Set"
   ]
  },
  {
   "cell_type": "code",
   "execution_count": 1,
   "metadata": {},
   "outputs": [
    {
     "name": "stdout",
     "output_type": "stream",
     "text": [
      "{1, 2, 3, 4, 5}\n"
     ]
    }
   ],
   "source": [
    "my_set = {1,2,3,4,5,5,5,5}\n",
    "print(my_set)"
   ]
  },
  {
   "cell_type": "code",
   "execution_count": 4,
   "metadata": {},
   "outputs": [
    {
     "name": "stdout",
     "output_type": "stream",
     "text": [
      "{1, 2, 3, 4, 5, 10, -5}\n"
     ]
    }
   ],
   "source": [
    "my_set.add(10)\n",
    "my_set.add(-5)\n",
    "print(my_set)"
   ]
  },
  {
   "cell_type": "code",
   "execution_count": null,
   "metadata": {},
   "outputs": [],
   "source": [
    "# Set is mutable variable\n",
    "my_set.copy()"
   ]
  },
  {
   "cell_type": "code",
   "execution_count": 5,
   "metadata": {},
   "outputs": [
    {
     "name": "stdout",
     "output_type": "stream",
     "text": [
      "{1, 2, 3, 4, 5, 100, 10, -5}\n",
      "{2, 3, 4, 5, 100, 10, -5}\n"
     ]
    }
   ],
   "source": [
    "my_set.add(100)\n",
    "print(my_set)\n",
    "my_set.pop()\n",
    "print(my_set)"
   ]
  },
  {
   "cell_type": "code",
   "execution_count": 6,
   "metadata": {},
   "outputs": [
    {
     "name": "stdout",
     "output_type": "stream",
     "text": [
      "{2, 3, 4, 5, 10, -5}\n"
     ]
    }
   ],
   "source": [
    "my_set.remove(100)\n",
    "print(my_set)"
   ]
  },
  {
   "cell_type": "code",
   "execution_count": 8,
   "metadata": {},
   "outputs": [
    {
     "name": "stdout",
     "output_type": "stream",
     "text": [
      "{2, 3, 4, 5, 10, -5}\n",
      "{2, 3, 4, 5, 10}\n"
     ]
    }
   ],
   "source": [
    "print(my_set)\n",
    "my_set.discard(-5)\n",
    "print(my_set)"
   ]
  },
  {
   "cell_type": "code",
   "execution_count": 9,
   "metadata": {},
   "outputs": [
    {
     "name": "stdout",
     "output_type": "stream",
     "text": [
      "{64, 2, 3, 4, 5, 41, 10, 15, 30}\n"
     ]
    }
   ],
   "source": [
    "my_set.update( [15, 30, 41, 64])\n",
    "print(my_set)"
   ]
  },
  {
   "cell_type": "code",
   "execution_count": 13,
   "metadata": {},
   "outputs": [
    {
     "name": "stdout",
     "output_type": "stream",
     "text": [
      "9 in my_set: False\n",
      "30 in my_set: True\n"
     ]
    }
   ],
   "source": [
    "print ('9 in my_set:', 9 in my_set)\n",
    "print ('30 in my_set:', 30 in my_set)"
   ]
  },
  {
   "cell_type": "code",
   "execution_count": 16,
   "metadata": {},
   "outputs": [
    {
     "name": "stdout",
     "output_type": "stream",
     "text": [
      "{8, 1, 2}\n",
      "{5, 6}\n",
      "{1, 2, 4, 5, 6, 7, 8, 10, 11}\n"
     ]
    }
   ],
   "source": [
    "my_set_1 = {1,2,5,6,8}\n",
    "my_set_2 = {4,5,6,7,10,11}\n",
    "\n",
    "print (my_set_1.difference(my_set_2))\n",
    "print (my_set_1.intersection(my_set_2))\n",
    "print (my_set_1.union(my_set_2))\n",
    "print (my_set_1.(my_set_2))"
   ]
  },
  {
   "cell_type": "code",
   "execution_count": 20,
   "metadata": {},
   "outputs": [
    {
     "name": "stdout",
     "output_type": "stream",
     "text": [
      "True\n",
      "True\n",
      "False\n",
      "False\n"
     ]
    }
   ],
   "source": [
    "my_set_1 = {5,6}\n",
    "my_set_2 = {4,5,6,7,10,11}\n",
    "\n",
    "print (my_set_1.issubset(my_set_2))\n",
    "print (my_set_2.issuperset(my_set_1))\n",
    "my_set_1 = {5,6,15}\n",
    "print (my_set_1.issubset(my_set_2))\n",
    "print (my_set_2.issuperset(my_set_1))"
   ]
  },
  {
   "cell_type": "code",
   "execution_count": 32,
   "metadata": {},
   "outputs": [
    {
     "name": "stdout",
     "output_type": "stream",
     "text": [
      "{'banana', 'cherry', ('nauja reiksme', 5), 'apple'}\n"
     ]
    }
   ],
   "source": [
    "fruits = {\"apple\", \"banana\", \"cherry\"}\n",
    "\n",
    "fruits.add(('nauja reiksme', 5))\n",
    "print(fruits)\n",
    "\n",
    "# fruits.update( [('nauja reiksme', 5)] )\n"
   ]
  },
  {
   "cell_type": "code",
   "execution_count": 33,
   "metadata": {},
   "outputs": [
    {
     "name": "stdout",
     "output_type": "stream",
     "text": [
      "{'watermelon', 'banana', 'cherry'}\n"
     ]
    }
   ],
   "source": [
    "fruits = {\"apple\", \"banana\", \"cherry\"}\n",
    "\n",
    "fruits.remove(\"apple\")\n",
    "fruits.add(\"watermelon\")\n",
    "print(fruits)"
   ]
  },
  {
   "cell_type": "code",
   "execution_count": 37,
   "metadata": {},
   "outputs": [
    {
     "name": "stdout",
     "output_type": "stream",
     "text": [
      "{'banana', 'apple', 'pear', 'watermelon', 'blueberry', 'grape', 'blackberry', 'mango', 'cherry'}\n",
      "{'banana', 'apple', 'pear', 'watermelon', 'blueberry', 'grape', 'blackberry', 'cherry'}\n",
      "8\n",
      "{'banana', 'apple', 'pear', 'watermelon', 'blueberry', 'grape', 'blackberry', 'cherry'}\n"
     ]
    }
   ],
   "source": [
    "fruits = {\"apple\", \"banana\", \"cherry\"}\n",
    "\n",
    "fruits.add(\"watermelon\")\n",
    "fruits.update( [\"blueberry\", \"mango\", \"grape\", \"blackberry\", \"pear\" ])\n",
    "print (fruits)\n",
    "fruits.remove(\"mango\")\n",
    "print (fruits)\n",
    "print (len(fruits))\n",
    "fruits.add (\"watermelon\")\n",
    "print(fruits)\n"
   ]
  },
  {
   "cell_type": "markdown",
   "metadata": {},
   "source": [
    "# Funkcijos"
   ]
  },
  {
   "cell_type": "code",
   "execution_count": 38,
   "metadata": {},
   "outputs": [],
   "source": [
    "def mano_funkcija():\n",
    "    print('hello world')"
   ]
  },
  {
   "cell_type": "code",
   "execution_count": 40,
   "metadata": {},
   "outputs": [
    {
     "name": "stdout",
     "output_type": "stream",
     "text": [
      "hello world\n",
      "hello world\n",
      "hello world\n"
     ]
    }
   ],
   "source": [
    "mano_funkcija()\n",
    "mano_funkcija()\n",
    "mano_funkcija()"
   ]
  },
  {
   "cell_type": "code",
   "execution_count": 41,
   "metadata": {},
   "outputs": [],
   "source": [
    "def mano_funkcija_2(name):\n",
    "    print(f'Hello {name}, how is your day?')"
   ]
  },
  {
   "cell_type": "code",
   "execution_count": 42,
   "metadata": {},
   "outputs": [
    {
     "name": "stdout",
     "output_type": "stream",
     "text": [
      "Hello Tomas, how is your day?\n",
      "Hello Helena, how is your day?\n",
      "Hello Ernesta, how is your day?\n"
     ]
    }
   ],
   "source": [
    "mano_funkcija_2('Tomas')\n",
    "mano_funkcija_2('Helena')\n",
    "mano_funkcija_2('Ernesta')"
   ]
  },
  {
   "cell_type": "code",
   "execution_count": 55,
   "metadata": {},
   "outputs": [],
   "source": [
    "def subtract(num_1, num_2):\n",
    "    print(num_1 - num_2)\n",
    "    return(num_1 - num_2)\n",
    "    print('Niekada neatspausdint')\n",
    "    a = 'asdfdf'"
   ]
  },
  {
   "cell_type": "code",
   "execution_count": 56,
   "metadata": {},
   "outputs": [
    {
     "name": "stdout",
     "output_type": "stream",
     "text": [
      "7\n",
      "7\n",
      "-7\n",
      "-7\n"
     ]
    }
   ],
   "source": [
    "subtract(12,5)\n",
    "subtract(num_1=12, num_2=5)\n",
    "result = subtract(num_2=12, num_1=5)\n",
    "print(result)\n"
   ]
  },
  {
   "cell_type": "code",
   "execution_count": 57,
   "metadata": {},
   "outputs": [],
   "source": [
    "def add_number(num_1, num_2=10):\n",
    "    return num_1 + num_2"
   ]
  },
  {
   "cell_type": "code",
   "execution_count": 61,
   "metadata": {},
   "outputs": [
    {
     "name": "stdout",
     "output_type": "stream",
     "text": [
      "23\n",
      "13\n",
      "53\n"
     ]
    }
   ],
   "source": [
    "print (add_number(3, 20) )\n",
    "print (add_number(3) )\n",
    "print (add_number(3, 50) )\n"
   ]
  },
  {
   "cell_type": "code",
   "execution_count": 64,
   "metadata": {},
   "outputs": [],
   "source": [
    "def add_all_numbers(*args):\n",
    "    print(args)\n",
    "    suma = 0\n",
    "    for number in args:\n",
    "        suma += number\n",
    "    return suma\n",
    "    # return sum(args)\n"
   ]
  },
  {
   "cell_type": "code",
   "execution_count": 66,
   "metadata": {},
   "outputs": [
    {
     "name": "stdout",
     "output_type": "stream",
     "text": [
      "(5, 6, 1, 20, -10)\n"
     ]
    },
    {
     "data": {
      "text/plain": [
       "22"
      ]
     },
     "execution_count": 66,
     "metadata": {},
     "output_type": "execute_result"
    }
   ],
   "source": [
    "add_all_numbers(5, 6, 1, 20, -10)"
   ]
  },
  {
   "cell_type": "code",
   "execution_count": 73,
   "metadata": {},
   "outputs": [],
   "source": [
    "def say_hello_2(name, num_1, num_2 = 20, **kwargs): # keywords arguments\n",
    "    print(f'hello {name}')\n",
    "    print(num_1 + num_2)\n",
    "    print(kwargs)\n",
    "    for key, value in kwargs.items():\n",
    "        print(f'key {key} have value of {value}')"
   ]
  },
  {
   "cell_type": "code",
   "execution_count": 74,
   "metadata": {},
   "outputs": [
    {
     "name": "stdout",
     "output_type": "stream",
     "text": [
      "hello Greta\n",
      "25\n",
      "{'surname': 'Matu', 'no': 'ne'}\n",
      "key surname have value of Matu\n",
      "key no have value of ne\n"
     ]
    }
   ],
   "source": [
    "say_hello_2('Greta', 5, surname = 'Matu', no = 'ne')"
   ]
  },
  {
   "cell_type": "code",
   "execution_count": 77,
   "metadata": {},
   "outputs": [],
   "source": [
    "def mano_funkcija_2(name):\n",
    "    \"\"\"\n",
    "    This function says hello to <name> and asks how are they.\n",
    "    \"\"\"\n",
    "    # Docstring\n",
    "    print(f'Hello {name}, how is your day?')"
   ]
  },
  {
   "cell_type": "code",
   "execution_count": 79,
   "metadata": {},
   "outputs": [
    {
     "name": "stdout",
     "output_type": "stream",
     "text": [
      "Hello Greta, how is your day?\n"
     ]
    }
   ],
   "source": [
    "mano_funkcija_2('Greta')"
   ]
  },
  {
   "cell_type": "code",
   "execution_count": 81,
   "metadata": {},
   "outputs": [
    {
     "name": "stdout",
     "output_type": "stream",
     "text": [
      "bye\n"
     ]
    }
   ],
   "source": [
    "def bye():\n",
    "    print('bye')\n",
    "\n",
    "bye()"
   ]
  },
  {
   "cell_type": "code",
   "execution_count": 83,
   "metadata": {},
   "outputs": [],
   "source": [
    "def myFunction (x,y):\n",
    "    if (x + y) % 2 == 0:\n",
    "        return x*y\n",
    "    return x/y"
   ]
  },
  {
   "cell_type": "code",
   "execution_count": 84,
   "metadata": {},
   "outputs": [
    {
     "name": "stdout",
     "output_type": "stream",
     "text": [
      "12\n",
      "2.0\n"
     ]
    }
   ],
   "source": [
    "print(myFunction (2,6))\n",
    "print(myFunction (10,5))"
   ]
  },
  {
   "cell_type": "code",
   "execution_count": 90,
   "metadata": {},
   "outputs": [
    {
     "name": "stdout",
     "output_type": "stream",
     "text": [
      "maryte\n"
     ]
    }
   ],
   "source": [
    "def second_task (name):\n",
    "    print(name)\n",
    "\n",
    "new_func = second_task\n",
    "new_func('maryte')"
   ]
  },
  {
   "cell_type": "code",
   "execution_count": 108,
   "metadata": {},
   "outputs": [],
   "source": [
    "def mano_funkcija(*args):\n",
    "    print(args)\n",
    "    result_dict = {}\n",
    "    for number in range (1,11):\n",
    "        result_dict[number] = 0\n",
    "        for arg in args:\n",
    "            if arg % number == 0:\n",
    "                result_dict[number] += 1\n",
    "\n",
    "    return result_dict\n"
   ]
  },
  {
   "cell_type": "code",
   "execution_count": 111,
   "metadata": {},
   "outputs": [
    {
     "name": "stdout",
     "output_type": "stream",
     "text": [
      "(1, 2, 65, 30, 37, 16, 9)\n"
     ]
    },
    {
     "data": {
      "text/plain": [
       "{1: 7, 2: 3, 3: 2, 4: 1, 5: 2, 6: 1, 7: 0, 8: 1, 9: 1, 10: 1}"
      ]
     },
     "execution_count": 111,
     "metadata": {},
     "output_type": "execute_result"
    }
   ],
   "source": [
    "mano_funkcija(1,2,65,30, 37, 16, 9)"
   ]
  },
  {
   "cell_type": "markdown",
   "metadata": {},
   "source": [
    "# Lambda"
   ]
  },
  {
   "cell_type": "code",
   "execution_count": 112,
   "metadata": {},
   "outputs": [],
   "source": [
    "text = \"Hello World\"\n",
    "\n",
    "def my_split(x):\n",
    "    return x.split(' ')\n",
    "\n",
    "my_lambda_split = lambda x: x.split(' ')[0]"
   ]
  },
  {
   "cell_type": "code",
   "execution_count": 113,
   "metadata": {},
   "outputs": [
    {
     "name": "stdout",
     "output_type": "stream",
     "text": [
      "['Hello', 'World']\n",
      "Hello\n"
     ]
    }
   ],
   "source": [
    "print(my_split(text))\n",
    "print(my_lambda_split(text))"
   ]
  },
  {
   "cell_type": "code",
   "execution_count": 117,
   "metadata": {},
   "outputs": [
    {
     "name": "stdout",
     "output_type": "stream",
     "text": [
      "[['one', 1], ['two', 2], ['ten', 10], ['five', 5]]\n",
      "[['one', 1], ['two', 2], ['five', 5], ['ten', 10]]\n"
     ]
    }
   ],
   "source": [
    "my_list = [ ['one', 1], ['two', 2], ['ten', 10], ['five', 5] ]\n",
    "print(my_list)\n",
    "print(sorted(my_list, key = lambda x: x[1] ) )"
   ]
  },
  {
   "cell_type": "code",
   "execution_count": 123,
   "metadata": {},
   "outputs": [
    {
     "name": "stdout",
     "output_type": "stream",
     "text": [
      "['a', 'meow', 'very', 'hello']\n"
     ]
    }
   ],
   "source": [
    "my_words = [ 'a', 'hello', 'meow', 'very']\n",
    "print(sorted(my_words, key = lambda x: len(x) ) )"
   ]
  },
  {
   "cell_type": "markdown",
   "metadata": {},
   "source": [
    "# While loop"
   ]
  },
  {
   "cell_type": "code",
   "execution_count": 127,
   "metadata": {},
   "outputs": [
    {
     "name": "stdout",
     "output_type": "stream",
     "text": [
      "Your name is Sandra\n"
     ]
    }
   ],
   "source": [
    "name = None\n",
    "\n",
    "while name is None:\n",
    "    user_input = input('what is your name?')\n",
    "    if user_input:\n",
    "        name = user_input\n",
    "    else:\n",
    "        print('No input received. Please try again!')\n",
    "\n",
    "print('Your name is', name)"
   ]
  },
  {
   "cell_type": "code",
   "execution_count": null,
   "metadata": {},
   "outputs": [],
   "source": [
    "# ctrl + c sustabdyti koda\n",
    "\n",
    "while True:\n",
    "    print('to infinity')"
   ]
  },
  {
   "cell_type": "code",
   "execution_count": 131,
   "metadata": {},
   "outputs": [
    {
     "name": "stdout",
     "output_type": "stream",
     "text": [
      "number 5 is smaller than 5. Try again\n"
     ]
    }
   ],
   "source": [
    "while True:\n",
    "    user_input = input (\"enter a number\")\n",
    "    if int(user_input) > 5:\n",
    "        break\n",
    "    print(f'number {user_input} is smaller than 5. Try again')"
   ]
  },
  {
   "cell_type": "code",
   "execution_count": null,
   "metadata": {},
   "outputs": [],
   "source": []
  }
 ],
 "metadata": {
  "interpreter": {
   "hash": "70a6c9a37cb58f7fafd514d0bfb6be7e5d3796d2f32086c8e99fdf34e5a26a64"
  },
  "kernelspec": {
   "display_name": "Python 3.10.2 64-bit",
   "language": "python",
   "name": "python3"
  },
  "language_info": {
   "codemirror_mode": {
    "name": "ipython",
    "version": 3
   },
   "file_extension": ".py",
   "mimetype": "text/x-python",
   "name": "python",
   "nbconvert_exporter": "python",
   "pygments_lexer": "ipython3",
   "version": "3.10.2"
  },
  "orig_nbformat": 4
 },
 "nbformat": 4,
 "nbformat_minor": 2
}
