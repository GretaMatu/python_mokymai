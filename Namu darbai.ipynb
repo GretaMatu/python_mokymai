{
 "cells": [
  {
   "cell_type": "code",
   "execution_count": 1,
   "metadata": {},
   "outputs": [
    {
     "name": "stdout",
     "output_type": "stream",
     "text": [
      "Greta Matuzeviciene\n",
      "Greta Matuzeviciene\n",
      "Mano vardas yra Greta, o pavarde Matuzeviciene\n"
     ]
    }
   ],
   "source": [
    "My_name = 'Greta'\n",
    "My_surname = \"Matuzeviciene\"\n",
    "print(My_name, My_surname)\n",
    "print(My_name +' '+ My_surname)\n",
    "print(f'Mano vardas yra {My_name}, o pavarde {My_surname}')\n"
   ]
  },
  {
   "cell_type": "code",
   "execution_count": 3,
   "metadata": {},
   "outputs": [
    {
     "name": "stdout",
     "output_type": "stream",
     "text": [
      "PYTHON MAKES ME REALLY REALLY HAPPY!\n",
      "PythOn makes me really really happy!\n",
      "PyThOn makes me really really happy!\n",
      "PyThOn makes me really really happy!\n"
     ]
    }
   ],
   "source": [
    "Textas = 'Python makes me really really happy!'\n",
    "print(Textas.upper())\n",
    "print(Textas.replace('o','O' ))\n",
    "print(Textas.replace('o','O' ).replace('t', 'T'))\n",
    "print(Textas.replace('Python', 'PyThOn'))"
   ]
  },
  {
   "cell_type": "code",
   "execution_count": 8,
   "metadata": {},
   "outputs": [
    {
     "name": "stdout",
     "output_type": "stream",
     "text": [
      "18\n",
      "happy\n",
      "to\n",
      "40\n"
     ]
    }
   ],
   "source": [
    "Sentence = 'Hello World, I am happy to learn Python!'\n",
    "print(Sentence.index('happy'))\n",
    "print(Sentence[Sentence.index('happy'):Sentence.index('happy') + len('happy')])\n",
    "print(Sentence[Sentence.index('to'):Sentence.index('to') + len('to')])\n",
    "print (len(Sentence))\n"
   ]
  },
  {
   "cell_type": "code",
   "execution_count": 44,
   "metadata": {},
   "outputs": [
    {
     "name": "stdout",
     "output_type": "stream",
     "text": [
      "6\n",
      "-2\n",
      "8\n",
      "0.5\n",
      "2\n"
     ]
    }
   ],
   "source": [
    "# Uzduotys\n",
    "No1 = 2\n",
    "No2 = 4\n",
    "print(No1 + No2)\n",
    "print(No1 - No2)\n",
    "print(No1 * No2)\n",
    "print(No1 / No2)\n",
    "print(No1 % No2)"
   ]
  },
  {
   "cell_type": "code",
   "execution_count": 45,
   "metadata": {},
   "outputs": [
    {
     "name": "stdout",
     "output_type": "stream",
     "text": [
      "4.6\n",
      "2.4\n",
      "3.8500000000000005\n",
      "0.19999999999999973\n",
      "3.1818181818181817\n"
     ]
    }
   ],
   "source": [
    "# Uzduotys\n",
    "Number1 = 3.5\n",
    "Number2 = 1.1\n",
    "print(Number1 + Number2)\n",
    "print(Number1 - Number2)\n",
    "print(Number1 * Number2)\n",
    "print(Number1 % Number2)\n",
    "print(Number1 / Number2)"
   ]
  },
  {
   "cell_type": "code",
   "execution_count": 62,
   "metadata": {},
   "outputs": [
    {
     "name": "stdout",
     "output_type": "stream",
     "text": [
      "390.625\n",
      "hours 2560.0\n",
      "years 0.2922374429223744\n",
      "months 3.506849315068493\n",
      "days 106.66666666666667\n",
      "seconds 9216000.0\n"
     ]
    }
   ],
   "source": [
    "Atstumas_menulio = 384000\n",
    "Atstumas_saules = 150000000\n",
    "print(Atstumas_saules / Atstumas_menulio)\n",
    "\n",
    "car_speed = 150 #km/h\n",
    "hours = Atstumas_menulio/car_speed\n",
    "print('hours', hours)\n",
    "years = hours / (24 * 365)\n",
    "print('years', years)\n",
    "months = years * 12\n",
    "print('months', months )\n",
    "days = hours / 24\n",
    "print('days', days)\n",
    "secs = hours * 60 * 60\n",
    "print('seconds', secs)\n",
    "\n"
   ]
  },
  {
   "cell_type": "code",
   "execution_count": 11,
   "metadata": {},
   "outputs": [],
   "source": [
    "from datetime import date"
   ]
  },
  {
   "cell_type": "code",
   "execution_count": 14,
   "metadata": {},
   "outputs": [
    {
     "name": "stdout",
     "output_type": "stream",
     "text": [
      "189 days, 0:00:00\n"
     ]
    }
   ],
   "source": [
    "birthday = date(2021,8,16)\n",
    "today = date.today()\n",
    "days = today - birthday\n",
    "print(days)\n"
   ]
  },
  {
   "cell_type": "code",
   "execution_count": 13,
   "metadata": {},
   "outputs": [
    {
     "name": "stdout",
     "output_type": "stream",
     "text": [
      "189\n"
     ]
    }
   ],
   "source": [
    "dienu = 21 + 15 + 30 + 31 + 30 + 31 + 31\n",
    "print(dienu)"
   ]
  },
  {
   "cell_type": "code",
   "execution_count": 84,
   "metadata": {},
   "outputs": [
    {
     "name": "stdout",
     "output_type": "stream",
     "text": [
      "4\n",
      "['raudona', 'geltona', 'juoda', 'zalia', 'melyna']\n",
      "True\n"
     ]
    }
   ],
   "source": [
    "# uzduotys\n",
    "\n",
    "spalvos = ['raudona', 'geltona', 'juoda', 'zalia']\n",
    "print(len(spalvos))\n",
    "spalvos.append('melyna')\n",
    "print(spalvos)\n",
    "print('zalia' in spalvos)"
   ]
  },
  {
   "cell_type": "code",
   "execution_count": 100,
   "metadata": {},
   "outputs": [
    {
     "name": "stdout",
     "output_type": "stream",
     "text": [
      "['violetine', 'pilka', 'raudona', 'geltona', 'juoda', 'zalia']\n",
      "['violetine', 'pilka', 'raudona', 'geltona', 'juoda']\n",
      "['geltona', 'juoda', 'pilka', 'raudona', 'violetine']\n",
      "1\n"
     ]
    }
   ],
   "source": [
    "# uzduotys\n",
    "\n",
    "spalvota = ['violetine', 'pilka'] + ['raudona', 'geltona', 'juoda', 'zalia']\n",
    "print(spalvota)\n",
    "spalvota.pop(-1)\n",
    "print(spalvota)\n",
    "spalvota.sort()\n",
    "print(spalvota)\n",
    "print (spalvota.count('pilka'))\n",
    "\n"
   ]
  },
  {
   "cell_type": "code",
   "execution_count": 114,
   "metadata": {},
   "outputs": [
    {
     "name": "stdout",
     "output_type": "stream",
     "text": [
      "8\n",
      "8\n"
     ]
    }
   ],
   "source": [
    "# uzduotys\n",
    "\n",
    "my_tuple = (1, 2, ['3', 4, 5], [6, [7, (8)]])\n",
    "print(my_tuple[-1][-1][-1])\n",
    "print(my_tuple[3][1][1])\n"
   ]
  },
  {
   "cell_type": "code",
   "execution_count": 117,
   "metadata": {},
   "outputs": [
    {
     "name": "stdout",
     "output_type": "stream",
     "text": [
      "(11, [222, 22], 44, 55)\n"
     ]
    }
   ],
   "source": [
    "# uzduotys\n",
    "\n",
    "tuple1 = (11, [222, 33], 44, 55)\n",
    "tuple1[1][1] = 22\n",
    "print(tuple1)\n"
   ]
  },
  {
   "cell_type": "code",
   "execution_count": 141,
   "metadata": {},
   "outputs": [
    {
     "name": "stdout",
     "output_type": "stream",
     "text": [
      "(25, 98, 9, 6, 3, 54, 7)\n",
      "(25, 98, 9, 6, 3, 54)\n",
      "[3, 6, 9, 25, 54, 98]\n",
      "6\n",
      "98\n"
     ]
    }
   ],
   "source": [
    "Tuples = (25, 98, 9) + (6, 3, 54, 7)\n",
    "print(Tuples)\n",
    "new_tuple = Tuples[:-1]\n",
    "print(new_tuple)\n",
    "print(sorted(new_tuple))\n",
    "print(len(new_tuple))\n",
    "print(max(new_tuple))\n",
    "\n"
   ]
  },
  {
   "cell_type": "code",
   "execution_count": 148,
   "metadata": {},
   "outputs": [
    {
     "name": "stdout",
     "output_type": "stream",
     "text": [
      "1\n",
      "2\n",
      "3\n",
      "4\n",
      "5\n",
      "6\n",
      "7\n",
      "8\n",
      "9\n",
      "10\n"
     ]
    }
   ],
   "source": [
    "# uzduotys\n",
    "for number in range (1,11,1):\n",
    "    print(number)\n"
   ]
  },
  {
   "cell_type": "code",
   "execution_count": 151,
   "metadata": {},
   "outputs": [
    {
     "name": "stdout",
     "output_type": "stream",
     "text": [
      "1275\n"
     ]
    }
   ],
   "source": [
    "# uzduotys\n",
    "suma = 0\n",
    "for number in range (1,51,1):\n",
    "    suma += number\n",
    "print(suma)"
   ]
  },
  {
   "cell_type": "code",
   "execution_count": null,
   "metadata": {},
   "outputs": [],
   "source": []
  }
 ],
 "metadata": {
  "interpreter": {
   "hash": "70a6c9a37cb58f7fafd514d0bfb6be7e5d3796d2f32086c8e99fdf34e5a26a64"
  },
  "kernelspec": {
   "display_name": "Python 3.10.2 64-bit",
   "language": "python",
   "name": "python3"
  },
  "language_info": {
   "codemirror_mode": {
    "name": "ipython",
    "version": 3
   },
   "file_extension": ".py",
   "mimetype": "text/x-python",
   "name": "python",
   "nbconvert_exporter": "python",
   "pygments_lexer": "ipython3",
   "version": "3.10.2"
  },
  "orig_nbformat": 4
 },
 "nbformat": 4,
 "nbformat_minor": 2
}
