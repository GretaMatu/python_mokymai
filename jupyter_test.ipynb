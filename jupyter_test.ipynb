{
 "cells": [
  {
   "cell_type": "code",
   "execution_count": 2,
   "metadata": {},
   "outputs": [
    {
     "name": "stdout",
     "output_type": "stream",
     "text": [
      "Greta\n"
     ]
    }
   ],
   "source": [
    "mano_vardas = 'Greta'\n",
    "print(mano_vardas)"
   ]
  },
  {
   "cell_type": "code",
   "execution_count": 7,
   "metadata": {},
   "outputs": [
    {
     "data": {
      "text/plain": [
       "str"
      ]
     },
     "execution_count": 7,
     "metadata": {},
     "output_type": "execute_result"
    }
   ],
   "source": [
    "type(mano_vardas)"
   ]
  },
  {
   "cell_type": "code",
   "execution_count": 8,
   "metadata": {},
   "outputs": [
    {
     "data": {
      "text/plain": [
       "int"
      ]
     },
     "execution_count": 8,
     "metadata": {},
     "output_type": "execute_result"
    }
   ],
   "source": [
    "type(5)"
   ]
  },
  {
   "cell_type": "code",
   "execution_count": 2,
   "metadata": {},
   "outputs": [
    {
     "name": "stdout",
     "output_type": "stream",
     "text": [
      "10\n"
     ]
    }
   ],
   "source": [
    "# print (abs(-5)) # komentaras cia\n",
    "print(abs(10))"
   ]
  },
  {
   "cell_type": "code",
   "execution_count": 1,
   "metadata": {},
   "outputs": [],
   "source": [
    "x = 5"
   ]
  },
  {
   "cell_type": "code",
   "execution_count": 11,
   "metadata": {},
   "outputs": [
    {
     "name": "stdout",
     "output_type": "stream",
     "text": [
      "hello world!\n",
      "don\"t come back\n",
      "this is a text with \"in the middle\n",
      "\n",
      "Kazkoks eiliuotas\n",
      "tekstas\n",
      "dar teksto\n"
     ]
    }
   ],
   "source": [
    "tekstas = 'hello world!'\n",
    "print(tekstas)\n",
    "tekstas_2 = \"don\\\"t come back\"\n",
    "print(tekstas_2)\n",
    "tekstas_3 = 'this is a text with \"in the middle'\n",
    "print(tekstas_3)\n",
    "multiline_text = \"\"\"\n",
    "Kazkoks eiliuotas\n",
    "tekstas\n",
    "dar teksto\"\"\"\n",
    "print(multiline_text)"
   ]
  },
  {
   "cell_type": "code",
   "execution_count": 15,
   "metadata": {},
   "outputs": [
    {
     "name": "stdout",
     "output_type": "stream",
     "text": [
      "h\n",
      "l\n",
      "!\n",
      "d\n"
     ]
    }
   ],
   "source": [
    "text = 'hello world!'\n",
    "print(text [0])\n",
    "print(text [2])\n",
    "print(text [-1])\n",
    "print(text [-2])"
   ]
  },
  {
   "cell_type": "markdown",
   "metadata": {},
   "source": [
    "# Slicing\n",
    "*Italic*\n",
    "**bold**"
   ]
  },
  {
   "cell_type": "code",
   "execution_count": 25,
   "metadata": {},
   "outputs": [
    {
     "name": "stdout",
     "output_type": "stream",
     "text": [
      "hello world!\n",
      "hello  \n",
      "text [6:9 wor\n",
      "text [6:] world!\n",
      "text[6::2] wrd\n",
      "text[::3] hlwl\n",
      "!dlrow olleh\n"
     ]
    }
   ],
   "source": [
    "print(text)\n",
    "# [start:end:step] - end is not included, last symbol not included in result\n",
    "print(text[0:5], text[5])\n",
    "print( 'text [6:9', text[6:9])\n",
    "print( 'text [6:]', text[6:])\n",
    "print( 'text[6::2]', text[6::2])\n",
    "print ( 'text[::3]', text[::3])\n",
    "\n",
    "# reversing text\n",
    "print(text[::-1])"
   ]
  },
  {
   "cell_type": "code",
   "execution_count": 26,
   "metadata": {},
   "outputs": [
    {
     "data": {
      "text/plain": [
       "12"
      ]
     },
     "execution_count": 26,
     "metadata": {},
     "output_type": "execute_result"
    }
   ],
   "source": [
    "len(text)"
   ]
  },
  {
   "cell_type": "code",
   "execution_count": 32,
   "metadata": {},
   "outputs": [
    {
     "name": "stdout",
     "output_type": "stream",
     "text": [
      "HELLO WORLD!\n"
     ]
    }
   ],
   "source": [
    "text.count('l')\n",
    "print (text.upper()) # does not overide original data\n",
    "\n"
   ]
  },
  {
   "cell_type": "code",
   "execution_count": 29,
   "metadata": {},
   "outputs": [
    {
     "data": {
      "text/plain": [
       "True"
      ]
     },
     "execution_count": 29,
     "metadata": {},
     "output_type": "execute_result"
    }
   ],
   "source": [
    "' '.isspace()"
   ]
  },
  {
   "cell_type": "code",
   "execution_count": 37,
   "metadata": {},
   "outputs": [
    {
     "name": "stdout",
     "output_type": "stream",
     "text": [
      "['hello', 'world!']\n",
      "['he', '', 'o wor', 'd!']\n",
      "hello tarpas world!\n",
      "hello world \n"
     ]
    }
   ],
   "source": [
    "print (text.split())\n",
    "print (text.split('l'))\n",
    "print (text.replace (' ', ' tarpas '))\n",
    "print (text.replace ('!', ' '))"
   ]
  },
  {
   "cell_type": "code",
   "execution_count": 38,
   "metadata": {},
   "outputs": [
    {
     "data": {
      "text/plain": [
       "'hello world!'"
      ]
     },
     "execution_count": 38,
     "metadata": {},
     "output_type": "execute_result"
    }
   ],
   "source": [
    "text"
   ]
  },
  {
   "cell_type": "code",
   "execution_count": 41,
   "metadata": {},
   "outputs": [
    {
     "name": "stdout",
     "output_type": "stream",
     "text": [
      "True\n",
      "False\n"
     ]
    }
   ],
   "source": [
    "print ('world' in text)\n",
    "print ('World' in text)"
   ]
  },
  {
   "cell_type": "code",
   "execution_count": 48,
   "metadata": {},
   "outputs": [
    {
     "name": "stdout",
     "output_type": "stream",
     "text": [
      "Hello World! My name is Greta , I like to play tennis\n",
      "Hello World! My name is Greta Matuzeviene, I like to play tennis\n",
      "Hello World! My name is Greta Matuzeviene, I like to play tennis. 5+2 is 7\n"
     ]
    }
   ],
   "source": [
    "mano_pavarde = 'Matuzeviene'\n",
    "print ('Hello World!', 'My name is', mano_vardas, ', I like to play tennis')\n",
    "print ('Hello World!', 'My name is', mano_vardas, mano_pavarde + ', I like to play tennis')\n",
    "# f-string - format string\n",
    "print( f'Hello World! My name is {mano_vardas} {mano_pavarde}, I like to play tennis. 5+2 is {5+2}')"
   ]
  },
  {
   "cell_type": "code",
   "execution_count": 55,
   "metadata": {},
   "outputs": [
    {
     "name": "stdout",
     "output_type": "stream",
     "text": [
      "Hello world\n",
      "Hello Hello Hello Hello Hello Hello Hello Hello Hello Hello \n",
      "Hello 1\n"
     ]
    }
   ],
   "source": [
    "print ('Hello ' + 'world')\n",
    "# print ('Hello ' - 'l')\n",
    "print ('Hello ' * 10)\n",
    "print ('Hello ' + '1')"
   ]
  },
  {
   "cell_type": "code",
   "execution_count": 65,
   "metadata": {},
   "outputs": [
    {
     "name": "stdout",
     "output_type": "stream",
     "text": [
      "52\n",
      "42\n",
      "235\n",
      "9.4\n",
      "229345007\n",
      "8\n",
      "9\n",
      "2\n",
      "1\n",
      "0\n"
     ]
    }
   ],
   "source": [
    "number = 47\n",
    "print (number + 5)\n",
    "print (number - 5)\n",
    "print (number * 5)\n",
    "print (number / 5)\n",
    "print (number ** 5) #kelimas laipsniu\n",
    "print (2 ** 3)\n",
    "print (number // 5) # sveikaja dalim\n",
    "print (number % 5) # likutine dalis\n",
    "print (3 % 2) # likutine dalis\n",
    "print (6 % 2) # likutine dalis\n",
    "\n"
   ]
  },
  {
   "cell_type": "code",
   "execution_count": null,
   "metadata": {},
   "outputs": [],
   "source": []
  }
 ],
 "metadata": {
  "interpreter": {
   "hash": "70a6c9a37cb58f7fafd514d0bfb6be7e5d3796d2f32086c8e99fdf34e5a26a64"
  },
  "kernelspec": {
   "display_name": "Python 3.10.2 64-bit",
   "language": "python",
   "name": "python3"
  },
  "language_info": {
   "codemirror_mode": {
    "name": "ipython",
    "version": 3
   },
   "file_extension": ".py",
   "mimetype": "text/x-python",
   "name": "python",
   "nbconvert_exporter": "python",
   "pygments_lexer": "ipython3",
   "version": "3.10.2"
  },
  "orig_nbformat": 4
 },
 "nbformat": 4,
 "nbformat_minor": 2
}
