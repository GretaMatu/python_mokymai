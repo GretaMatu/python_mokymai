{
 "cells": [
  {
   "cell_type": "code",
   "execution_count": 1,
   "metadata": {},
   "outputs": [
    {
     "name": "stdout",
     "output_type": "stream",
     "text": [
      "5\n"
     ]
    }
   ],
   "source": [
    "print(17 // 3)"
   ]
  },
  {
   "cell_type": "code",
   "execution_count": 7,
   "metadata": {},
   "outputs": [
    {
     "name": "stdout",
     "output_type": "stream",
     "text": [
      "monthy\n"
     ]
    }
   ],
   "source": [
    "s = 'MonThy'\n",
    "s = s.lower()\n",
    "print(s)"
   ]
  },
  {
   "cell_type": "code",
   "execution_count": 8,
   "metadata": {},
   "outputs": [
    {
     "name": "stdout",
     "output_type": "stream",
     "text": [
      "_Moth_\n"
     ]
    }
   ],
   "source": [
    "k = '_Moth!_'\n",
    "k = k.replace('!', '')\n",
    "print(k)"
   ]
  },
  {
   "cell_type": "code",
   "execution_count": 9,
   "metadata": {},
   "outputs": [
    {
     "name": "stdout",
     "output_type": "stream",
     "text": [
      "['a', 'b', 'c']\n"
     ]
    }
   ],
   "source": [
    "raides = ['a', 'ą', 'b', 'č', 'd']\n",
    "raides.remove('ą')\n",
    "raides[2] = 'c'\n",
    "raides.pop()\n",
    "print(raides)"
   ]
  },
  {
   "cell_type": "code",
   "execution_count": 10,
   "metadata": {},
   "outputs": [
    {
     "name": "stdout",
     "output_type": "stream",
     "text": [
      "3\n"
     ]
    }
   ],
   "source": [
    "A = set('banana')\n",
    "print(len(A))"
   ]
  },
  {
   "cell_type": "code",
   "execution_count": 18,
   "metadata": {},
   "outputs": [
    {
     "name": "stdout",
     "output_type": "stream",
     "text": [
      "21\n"
     ]
    }
   ],
   "source": [
    "s = 0\n",
    "numbers = '123456'\n",
    "for n in numbers:\n",
    "    s += int(n)\n",
    "print(s)"
   ]
  },
  {
   "cell_type": "code",
   "execution_count": 21,
   "metadata": {},
   "outputs": [
    {
     "name": "stdout",
     "output_type": "stream",
     "text": [
      " 369\n"
     ]
    }
   ],
   "source": [
    "rezas = ' '\n",
    "for i in range(2,12):\n",
    "    if i % 3 == 0:\n",
    "        rezas = rezas + str(i)\n",
    "print(rezas)"
   ]
  },
  {
   "cell_type": "code",
   "execution_count": 15,
   "metadata": {},
   "outputs": [
    {
     "name": "stdout",
     "output_type": "stream",
     "text": [
      "(1, 2)\n"
     ]
    }
   ],
   "source": [
    "def koord_spausdinimas():\n",
    "    for x in range(1,2):\n",
    "        for y in range(2,3):\n",
    "            print(f'({x}, {y})')\n",
    "koord_spausdinimas()"
   ]
  },
  {
   "cell_type": "code",
   "execution_count": 16,
   "metadata": {},
   "outputs": [
    {
     "name": "stdout",
     "output_type": "stream",
     "text": [
      "[]\n"
     ]
    }
   ],
   "source": [
    "x = []\n",
    "def f():\n",
    "    x = []\n",
    "    x.append(1)\n",
    "    x.append(2)\n",
    "    x.append(3)\n",
    "f()\n",
    "print(x)\n"
   ]
  },
  {
   "cell_type": "code",
   "execution_count": 20,
   "metadata": {},
   "outputs": [
    {
     "name": "stdout",
     "output_type": "stream",
     "text": [
      "{1, 2}\n"
     ]
    }
   ],
   "source": [
    "A = {1,2,3,4,5}\n",
    "B = {3,4,5,6,7}\n",
    "print(A.difference(B))"
   ]
  },
  {
   "cell_type": "code",
   "execution_count": 22,
   "metadata": {},
   "outputs": [],
   "source": [
    "def add_2(a,b):\n",
    "    if not isinstance(a, int):\n",
    "        raise ValueError('Kintamojo a reiksme netinkama, turi buti sveikasis skaicius')\n",
    "    if not isinstance(b, int):\n",
    "        raise ValueError('Kintamojo b reiksme netinkama, turi buti sveikasis skaicius')\n",
    "    return a + b"
   ]
  },
  {
   "cell_type": "code",
   "execution_count": 24,
   "metadata": {},
   "outputs": [
    {
     "name": "stdout",
     "output_type": "stream",
     "text": [
      "7\n"
     ]
    },
    {
     "ename": "ValueError",
     "evalue": "Kintamojo b reiksme netinkama, turi buti sveikasis skaicius",
     "output_type": "error",
     "traceback": [
      "\u001b[1;31m---------------------------------------------------------------------------\u001b[0m",
      "\u001b[1;31mValueError\u001b[0m                                Traceback (most recent call last)",
      "\u001b[1;32mc:\\Users\\Greta\\Desktop\\Document Phyton\\python_mokymai\\Paskaita_5.ipynb Cell 12'\u001b[0m in \u001b[0;36m<module>\u001b[1;34m\u001b[0m\n\u001b[0;32m      <a href='vscode-notebook-cell:/c%3A/Users/Greta/Desktop/Document%20Phyton/python_mokymai/Paskaita_5.ipynb#ch0000013?line=0'>1</a>\u001b[0m \u001b[39mprint\u001b[39m (add_2(\u001b[39m2\u001b[39m,\u001b[39m5\u001b[39m))\n\u001b[1;32m----> <a href='vscode-notebook-cell:/c%3A/Users/Greta/Desktop/Document%20Phyton/python_mokymai/Paskaita_5.ipynb#ch0000013?line=1'>2</a>\u001b[0m \u001b[39mprint\u001b[39m (add_2(\u001b[39m5\u001b[39;49m, \u001b[39m'\u001b[39;49m\u001b[39m7\u001b[39;49m\u001b[39m'\u001b[39;49m))\n",
      "\u001b[1;32mc:\\Users\\Greta\\Desktop\\Document Phyton\\python_mokymai\\Paskaita_5.ipynb Cell 11'\u001b[0m in \u001b[0;36madd_2\u001b[1;34m(a, b)\u001b[0m\n\u001b[0;32m      <a href='vscode-notebook-cell:/c%3A/Users/Greta/Desktop/Document%20Phyton/python_mokymai/Paskaita_5.ipynb#ch0000012?line=2'>3</a>\u001b[0m     \u001b[39mraise\u001b[39;00m \u001b[39mValueError\u001b[39;00m(\u001b[39m'\u001b[39m\u001b[39mKintamojo a reiksme netinkama, turi buti sveikasis skaicius\u001b[39m\u001b[39m'\u001b[39m)\n\u001b[0;32m      <a href='vscode-notebook-cell:/c%3A/Users/Greta/Desktop/Document%20Phyton/python_mokymai/Paskaita_5.ipynb#ch0000012?line=3'>4</a>\u001b[0m \u001b[39mif\u001b[39;00m \u001b[39mnot\u001b[39;00m \u001b[39misinstance\u001b[39m(b, \u001b[39mint\u001b[39m):\n\u001b[1;32m----> <a href='vscode-notebook-cell:/c%3A/Users/Greta/Desktop/Document%20Phyton/python_mokymai/Paskaita_5.ipynb#ch0000012?line=4'>5</a>\u001b[0m     \u001b[39mraise\u001b[39;00m \u001b[39mValueError\u001b[39;00m(\u001b[39m'\u001b[39m\u001b[39mKintamojo b reiksme netinkama, turi buti sveikasis skaicius\u001b[39m\u001b[39m'\u001b[39m)\n\u001b[0;32m      <a href='vscode-notebook-cell:/c%3A/Users/Greta/Desktop/Document%20Phyton/python_mokymai/Paskaita_5.ipynb#ch0000012?line=5'>6</a>\u001b[0m \u001b[39mreturn\u001b[39;00m a \u001b[39m+\u001b[39m b\n",
      "\u001b[1;31mValueError\u001b[0m: Kintamojo b reiksme netinkama, turi buti sveikasis skaicius"
     ]
    }
   ],
   "source": [
    "print (add_2(2,5))\n",
    "print (add_2(5, '7'))"
   ]
  },
  {
   "cell_type": "markdown",
   "metadata": {},
   "source": [
    "# Try/except"
   ]
  },
  {
   "cell_type": "code",
   "execution_count": 27,
   "metadata": {},
   "outputs": [
    {
     "name": "stdout",
     "output_type": "stream",
     "text": [
      "try pradzia\n",
      "Except dalis\n",
      "po try/except\n"
     ]
    }
   ],
   "source": [
    "try:\n",
    "    print('try pradzia')\n",
    "    x = 32\n",
    "    y = '6' + 31\n",
    "    print(x)\n",
    "    print('try pabaiga')\n",
    "except Exception:\n",
    "    print('Except dalis')\n",
    "\n",
    "print('po try/except')"
   ]
  },
  {
   "cell_type": "code",
   "execution_count": 28,
   "metadata": {},
   "outputs": [
    {
     "name": "stdout",
     "output_type": "stream",
     "text": [
      "try pradzia\n"
     ]
    },
    {
     "ename": "TypeError",
     "evalue": "can only concatenate str (not \"int\") to str",
     "output_type": "error",
     "traceback": [
      "\u001b[1;31m---------------------------------------------------------------------------\u001b[0m",
      "\u001b[1;31mTypeError\u001b[0m                                 Traceback (most recent call last)",
      "\u001b[1;32mc:\\Users\\Greta\\Desktop\\Document Phyton\\python_mokymai\\Paskaita_5.ipynb Cell 15'\u001b[0m in \u001b[0;36m<module>\u001b[1;34m\u001b[0m\n\u001b[0;32m      <a href='vscode-notebook-cell:/c%3A/Users/Greta/Desktop/Document%20Phyton/python_mokymai/Paskaita_5.ipynb#ch0000017?line=1'>2</a>\u001b[0m \u001b[39mprint\u001b[39m(\u001b[39m'\u001b[39m\u001b[39mtry pradzia\u001b[39m\u001b[39m'\u001b[39m)\n\u001b[0;32m      <a href='vscode-notebook-cell:/c%3A/Users/Greta/Desktop/Document%20Phyton/python_mokymai/Paskaita_5.ipynb#ch0000017?line=2'>3</a>\u001b[0m x \u001b[39m=\u001b[39m \u001b[39m32\u001b[39m\n\u001b[1;32m----> <a href='vscode-notebook-cell:/c%3A/Users/Greta/Desktop/Document%20Phyton/python_mokymai/Paskaita_5.ipynb#ch0000017?line=3'>4</a>\u001b[0m y \u001b[39m=\u001b[39m \u001b[39m'\u001b[39;49m\u001b[39m6\u001b[39;49m\u001b[39m'\u001b[39;49m \u001b[39m+\u001b[39;49m \u001b[39m31\u001b[39;49m\n\u001b[0;32m      <a href='vscode-notebook-cell:/c%3A/Users/Greta/Desktop/Document%20Phyton/python_mokymai/Paskaita_5.ipynb#ch0000017?line=4'>5</a>\u001b[0m \u001b[39mprint\u001b[39m(x)\n\u001b[0;32m      <a href='vscode-notebook-cell:/c%3A/Users/Greta/Desktop/Document%20Phyton/python_mokymai/Paskaita_5.ipynb#ch0000017?line=5'>6</a>\u001b[0m \u001b[39mprint\u001b[39m(\u001b[39m'\u001b[39m\u001b[39mtry pabaiga\u001b[39m\u001b[39m'\u001b[39m)\n",
      "\u001b[1;31mTypeError\u001b[0m: can only concatenate str (not \"int\") to str"
     ]
    }
   ],
   "source": [
    "try:\n",
    "    print('try pradzia')\n",
    "    x = 32\n",
    "    y = '6' + 31\n",
    "    print(x)\n",
    "    print('try pabaiga')\n",
    "except ZeroDivisionError as e:\n",
    "    print('ZeroDivisionError')\n",
    "    print(e)\n",
    "\n",
    "print('po try/except')"
   ]
  },
  {
   "cell_type": "code",
   "execution_count": 30,
   "metadata": {},
   "outputs": [],
   "source": [
    "k = 0\n",
    "\n",
    "if k == 0:\n",
    "    k = 0.00000000000001\n",
    "\n",
    "z = 5 / k"
   ]
  },
  {
   "cell_type": "code",
   "execution_count": 31,
   "metadata": {},
   "outputs": [],
   "source": [
    "a = '6'\n",
    "if not isinstance (a, int):\n",
    "    a = int(a)\n",
    "\n",
    "y = a + 10"
   ]
  },
  {
   "cell_type": "code",
   "execution_count": 34,
   "metadata": {},
   "outputs": [
    {
     "name": "stdout",
     "output_type": "stream",
     "text": [
      "try pradzia\n",
      "TypeError\n",
      "None\n",
      "po visko\n"
     ]
    },
    {
     "name": "stderr",
     "output_type": "stream",
     "text": [
      "Traceback (most recent call last):\n",
      "  File \"C:\\Users\\Greta\\AppData\\Local\\Temp\\ipykernel_1388\\957544574.py\", line 6, in <module>\n",
      "    y = '6' + 31\n",
      "TypeError: can only concatenate str (not \"int\") to str\n"
     ]
    }
   ],
   "source": [
    "import traceback\n",
    "\n",
    "try:\n",
    "    print('try pradzia')\n",
    "    x = 32\n",
    "    y = '6' + 31\n",
    "    print(x)\n",
    "    print('try pabaiga')\n",
    "except TypeError as e:\n",
    "    print('TypeError')\n",
    "    print (traceback.print_exc())\n",
    "\n",
    "print('po visko')"
   ]
  },
  {
   "cell_type": "code",
   "execution_count": 35,
   "metadata": {},
   "outputs": [],
   "source": [
    "import os"
   ]
  },
  {
   "cell_type": "code",
   "execution_count": 36,
   "metadata": {},
   "outputs": [
    {
     "data": {
      "text/plain": [
       "'c:\\\\Users\\\\Greta\\\\Desktop\\\\Document Phyton\\\\python_mokymai'"
      ]
     },
     "execution_count": 36,
     "metadata": {},
     "output_type": "execute_result"
    }
   ],
   "source": [
    "os.getcwd()"
   ]
  },
  {
   "cell_type": "code",
   "execution_count": 37,
   "metadata": {},
   "outputs": [
    {
     "data": {
      "text/plain": [
       "['.git',\n",
       " '.gitignore',\n",
       " 'Namu darbai.ipynb',\n",
       " 'Paskaita_1.ipynb',\n",
       " 'Paskaita_2.ipynb',\n",
       " 'paskaita_3.ipynb',\n",
       " 'Paskaita_4.ipynb',\n",
       " 'Paskaita_5.ipynb',\n",
       " 'README.md',\n",
       " 'Test.ipynb']"
      ]
     },
     "execution_count": 37,
     "metadata": {},
     "output_type": "execute_result"
    }
   ],
   "source": [
    "os.listdir()"
   ]
  },
  {
   "cell_type": "code",
   "execution_count": 39,
   "metadata": {},
   "outputs": [
    {
     "data": {
      "text/plain": [
       "['COMMIT_EDITMSG',\n",
       " 'config',\n",
       " 'description',\n",
       " 'HEAD',\n",
       " 'hooks',\n",
       " 'index',\n",
       " 'info',\n",
       " 'logs',\n",
       " 'objects',\n",
       " 'packed-refs',\n",
       " 'refs']"
      ]
     },
     "execution_count": 39,
     "metadata": {},
     "output_type": "execute_result"
    }
   ],
   "source": [
    "os.listdir('.git')"
   ]
  },
  {
   "cell_type": "code",
   "execution_count": 40,
   "metadata": {},
   "outputs": [
    {
     "data": {
      "text/plain": [
       "['.git',\n",
       " '.gitignore',\n",
       " 'Namu darbai.ipynb',\n",
       " 'Paskaita_1.ipynb',\n",
       " 'Paskaita_2.ipynb',\n",
       " 'paskaita_3.ipynb',\n",
       " 'Paskaita_4.ipynb',\n",
       " 'Paskaita_5.ipynb',\n",
       " 'README.md',\n",
       " 'Test.ipynb']"
      ]
     },
     "execution_count": 40,
     "metadata": {},
     "output_type": "execute_result"
    }
   ],
   "source": [
    "os.listdir('c:\\\\Users\\\\Greta\\\\Desktop\\\\Document Phyton\\\\python_mokymai')"
   ]
  },
  {
   "cell_type": "code",
   "execution_count": 41,
   "metadata": {},
   "outputs": [],
   "source": [
    "os.chdir ('../')"
   ]
  },
  {
   "cell_type": "code",
   "execution_count": 42,
   "metadata": {},
   "outputs": [
    {
     "data": {
      "text/plain": [
       "'c:\\\\Users\\\\Greta\\\\Desktop\\\\Document Phyton'"
      ]
     },
     "execution_count": 42,
     "metadata": {},
     "output_type": "execute_result"
    }
   ],
   "source": [
    "os.getcwd()"
   ]
  },
  {
   "cell_type": "code",
   "execution_count": 44,
   "metadata": {},
   "outputs": [
    {
     "data": {
      "text/plain": [
       "'c:\\\\Users\\\\Greta\\\\Desktop\\\\Document Phyton\\\\python_mokymai'"
      ]
     },
     "execution_count": 44,
     "metadata": {},
     "output_type": "execute_result"
    }
   ],
   "source": [
    "os.chdir ('c:\\\\Users\\\\Greta\\\\Desktop\\\\Document Phyton\\\\python_mokymai')\n",
    "os.getcwd()"
   ]
  },
  {
   "cell_type": "code",
   "execution_count": 45,
   "metadata": {},
   "outputs": [
    {
     "name": "stdout",
     "output_type": "stream",
     "text": [
      "testinis\n",
      "56883656\n",
      "Hello hello\n"
     ]
    }
   ],
   "source": [
    "with open ('test.txt', 'r') as file_read:\n",
    "    print(file_read.read())\n",
    "\n"
   ]
  },
  {
   "cell_type": "code",
   "execution_count": 47,
   "metadata": {},
   "outputs": [],
   "source": [
    "cities = ['Vilnius', 'Kaunas', 'Klaipeda']\n",
    "with open ('test_write.txt', 'w') as file_write:\n",
    "    for city in cities:\n",
    "        file_write.write(city + '\\n')"
   ]
  },
  {
   "cell_type": "code",
   "execution_count": 48,
   "metadata": {},
   "outputs": [],
   "source": [
    "import json\n",
    "\n",
    "my_dict = {\n",
    "    'name' : 'Greta',\n",
    "    'age' : 30,\n",
    "    'hobbies' : ['Puzzle', 'game']\n",
    "}\n",
    "\n",
    "with open ('me.json', 'w') as file_write:\n",
    "    json.dump(my_dict, file_write)"
   ]
  },
  {
   "cell_type": "code",
   "execution_count": 50,
   "metadata": {},
   "outputs": [
    {
     "name": "stdout",
     "output_type": "stream",
     "text": [
      "2018-08-14\n",
      "2018-08-14 10:46:10\n"
     ]
    }
   ],
   "source": [
    "import datetime\n",
    "\n",
    "date_txt = '2018-08-14 10:46:10'\n",
    "date = datetime.datetime.fromisoformat(date_txt)\n",
    "print(date.date())\n",
    "\n",
    "date_txt_2 = '2018/08/14 10:46:10'\n",
    "date = datetime.datetime.strptime(date_txt_2, '%Y/%m/%d %H:%M:%S')\n",
    "print(date)"
   ]
  },
  {
   "cell_type": "code",
   "execution_count": null,
   "metadata": {},
   "outputs": [],
   "source": []
  }
 ],
 "metadata": {
  "interpreter": {
   "hash": "70a6c9a37cb58f7fafd514d0bfb6be7e5d3796d2f32086c8e99fdf34e5a26a64"
  },
  "kernelspec": {
   "display_name": "Python 3.10.2 64-bit",
   "language": "python",
   "name": "python3"
  },
  "language_info": {
   "codemirror_mode": {
    "name": "ipython",
    "version": 3
   },
   "file_extension": ".py",
   "mimetype": "text/x-python",
   "name": "python",
   "nbconvert_exporter": "python",
   "pygments_lexer": "ipython3",
   "version": "3.10.2"
  },
  "orig_nbformat": 4
 },
 "nbformat": 4,
 "nbformat_minor": 2
}
