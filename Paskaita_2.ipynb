{
 "cells": [
  {
   "cell_type": "code",
   "execution_count": 178,
   "metadata": {},
   "outputs": [
    {
     "name": "stdout",
     "output_type": "stream",
     "text": [
      "<class 'int'>\n",
      "<class 'float'>\n",
      "<class 'float'>\n"
     ]
    }
   ],
   "source": [
    "print (type (420) )\n",
    "print (type (420.) )\n",
    "print (type (420.5) )"
   ]
  },
  {
   "cell_type": "code",
   "execution_count": 179,
   "metadata": {},
   "outputs": [
    {
     "name": "stdout",
     "output_type": "stream",
     "text": [
      "5\n",
      "11\n",
      "18\n"
     ]
    }
   ],
   "source": [
    "suma = 0\n",
    "suma = suma + 5\n",
    "print (suma)\n",
    "suma = suma + 6\n",
    "print (suma)\n",
    "suma += 7\n",
    "print (suma)"
   ]
  },
  {
   "cell_type": "code",
   "execution_count": 180,
   "metadata": {},
   "outputs": [
    {
     "name": "stdout",
     "output_type": "stream",
     "text": [
      "10\n",
      "45.0\n",
      "2025.0\n"
     ]
    }
   ],
   "source": [
    "sandauga = 1\n",
    "sandauga *= 10\n",
    "print (sandauga)\n",
    "sandauga *= 4.5\n",
    "print (sandauga)\n",
    "sandauga **= 2 # kelimas kvadratu\n",
    "print (sandauga) "
   ]
  },
  {
   "cell_type": "code",
   "execution_count": 181,
   "metadata": {},
   "outputs": [
    {
     "name": "stdout",
     "output_type": "stream",
     "text": [
      "30\n",
      "10\n",
      "200\n",
      "2.0\n",
      "0\n",
      "2\n",
      "Atstumas iki saules yra 390.625 kartu didesnis\n",
      "valandu: 2560.0\n"
     ]
    }
   ],
   "source": [
    "no1 = 20\n",
    "no2 = 10\n",
    "print (no1 + no2)\n",
    "print (no1 - no2)\n",
    "print (no1 * no2)\n",
    "print (no1 / no2)\n",
    "print (no1 % no2)\n",
    "print (no1 // no2)\n",
    "\n",
    "\n",
    "dist_moon = 384000\n",
    "dist_sun = 150000000\n",
    "print (f'Atstumas iki saules yra {dist_sun/dist_moon} kartu didesnis')\n",
    "\n",
    "car_speed = 150 #km/h\n",
    "print ('valandu:', dist_moon/car_speed)\n"
   ]
  },
  {
   "cell_type": "code",
   "execution_count": 182,
   "metadata": {},
   "outputs": [
    {
     "name": "stdout",
     "output_type": "stream",
     "text": [
      "<class 'bool'>\n",
      "True\n"
     ]
    }
   ],
   "source": [
    "loginis_kintamasis = True\n",
    "print (type(loginis_kintamasis))\n",
    "print (loginis_kintamasis)"
   ]
  },
  {
   "cell_type": "code",
   "execution_count": 183,
   "metadata": {},
   "outputs": [
    {
     "name": "stdout",
     "output_type": "stream",
     "text": [
      "1\n",
      "0\n",
      "False\n",
      "True\n",
      "True\n",
      "True\n",
      "True\n",
      "True\n",
      "False\n",
      "True\n"
     ]
    }
   ],
   "source": [
    "print (int(loginis_kintamasis))\n",
    "print (int(False))\n",
    "\n",
    "number = 50\n",
    "print ( 10 < 5)\n",
    "print ( 10 > 5)\n",
    "print ( 10 <= 10)\n",
    "print ( 10 >= 10)\n",
    "print ( 10 <= 10)\n",
    "print ( 50 == number) # = priskiria verte, == palygina\n",
    "print ( 100 == number)\n",
    "print ( 90 != number)"
   ]
  },
  {
   "cell_type": "code",
   "execution_count": 184,
   "metadata": {},
   "outputs": [
    {
     "name": "stdout",
     "output_type": "stream",
     "text": [
      "True\n",
      "False\n",
      "True\n",
      "True\n"
     ]
    }
   ],
   "source": [
    "print (bool(1654))\n",
    "print (bool(0))\n",
    "print (bool(-1))\n",
    "print (bool(0.000001))"
   ]
  },
  {
   "cell_type": "code",
   "execution_count": 185,
   "metadata": {},
   "outputs": [
    {
     "name": "stdout",
     "output_type": "stream",
     "text": [
      "True\n",
      "False\n",
      "True\n"
     ]
    }
   ],
   "source": [
    "print (bool('tekstas'))\n",
    "print (bool(''))\n",
    "print (bool(' '))"
   ]
  },
  {
   "cell_type": "code",
   "execution_count": 186,
   "metadata": {},
   "outputs": [
    {
     "name": "stdout",
     "output_type": "stream",
     "text": [
      "False\n",
      "True\n",
      "True\n",
      "True\n",
      "False\n",
      "True\n",
      "False\n",
      "True\n"
     ]
    }
   ],
   "source": [
    "print (10 < 5 and 10 > 8)\n",
    "print (10 < 50 and 10 > 8)\n",
    "print (10 < 5 or 10 > 8)\n",
    "print (10 < 50 or 10 > 8)\n",
    "\n",
    "print (5 > 10)\n",
    "print (not 5 > 10) # not duoda priesinga atsakyma\n",
    "print (not True)\n",
    "print (not False)"
   ]
  },
  {
   "cell_type": "code",
   "execution_count": 187,
   "metadata": {},
   "outputs": [
    {
     "name": "stdout",
     "output_type": "stream",
     "text": [
      "True\n",
      "False\n",
      "True\n",
      "False\n",
      "True\n"
     ]
    }
   ],
   "source": [
    "print (\"Vilnius\" in 'Vilnius, Kaunas')\n",
    "print (\"Klaipeda\" in 'Vilnius, Kaunas')\n",
    "print (\"s\" in 'Vilnius, Kaunas')\n",
    "print (\"kau\" in 'Vilnius, Kaunas')\n",
    "print (\"Kau\" in 'Vilnius, Kaunas')"
   ]
  },
  {
   "cell_type": "code",
   "execution_count": 188,
   "metadata": {},
   "outputs": [
    {
     "name": "stdout",
     "output_type": "stream",
     "text": [
      "True\n",
      "True\n",
      "False\n"
     ]
    }
   ],
   "source": [
    "print (True == 1)\n",
    "print (False == 0)\n",
    "print (False == 1)"
   ]
  },
  {
   "cell_type": "code",
   "execution_count": 189,
   "metadata": {},
   "outputs": [
    {
     "name": "stdout",
     "output_type": "stream",
     "text": [
      "True\n",
      "True\n",
      "True\n",
      "True\n",
      "True\n"
     ]
    }
   ],
   "source": [
    "print (5>1)\n",
    "print (\"man\" in 'mano, tavo' )\n",
    "print (not 5 >10)\n",
    "print (True == 1)\n",
    "print (bool(3))"
   ]
  },
  {
   "cell_type": "code",
   "execution_count": 190,
   "metadata": {},
   "outputs": [
    {
     "name": "stdout",
     "output_type": "stream",
     "text": [
      "False\n",
      "False\n",
      "False\n",
      "False\n",
      "False\n"
     ]
    }
   ],
   "source": [
    "print (not 1<2)\n",
    "print (\"Man\" in 'mano, tavo' )\n",
    "print (5 >10)\n",
    "print (True == 0)\n",
    "print (1 > 2 and 2<1)"
   ]
  },
  {
   "cell_type": "code",
   "execution_count": 191,
   "metadata": {},
   "outputs": [
    {
     "name": "stdout",
     "output_type": "stream",
     "text": [
      "-1.0999999999999996\n"
     ]
    }
   ],
   "source": [
    "float1 = 2.2\n",
    "float2 = 3.3\n",
    "print (float1 - float2)"
   ]
  },
  {
   "cell_type": "code",
   "execution_count": 192,
   "metadata": {},
   "outputs": [],
   "source": [
    "# List\n",
    "\n",
    "cities = ['Vilnius', 'Kaunas', 'Klaipeda']"
   ]
  },
  {
   "cell_type": "code",
   "execution_count": 193,
   "metadata": {},
   "outputs": [
    {
     "name": "stdout",
     "output_type": "stream",
     "text": [
      "<class 'list'>\n",
      "Vilnius\n",
      "Klaipeda\n",
      "['Kaunas', 'Klaipeda']\n"
     ]
    }
   ],
   "source": [
    "print (type(cities))\n",
    "\n",
    "print (cities [0])\n",
    "print (cities [-1])\n",
    "\n",
    "#slicing\n",
    "print (cities [1:])"
   ]
  },
  {
   "cell_type": "code",
   "execution_count": 194,
   "metadata": {},
   "outputs": [
    {
     "name": "stdout",
     "output_type": "stream",
     "text": [
      "['Vilnius', 'Kaunas', 'Siauliai']\n"
     ]
    }
   ],
   "source": [
    "cities [-1] = 'Siauliai'\n",
    "print (cities)"
   ]
  },
  {
   "cell_type": "code",
   "execution_count": 195,
   "metadata": {},
   "outputs": [
    {
     "name": "stdout",
     "output_type": "stream",
     "text": [
      "['Vilnius', 'Kaunas', 'Siauliai', 'Panevezys']\n"
     ]
    }
   ],
   "source": [
    "cities.append ('Panevezys') # prideda kiekviena karta paleidus\n",
    "print (cities)"
   ]
  },
  {
   "cell_type": "code",
   "execution_count": 196,
   "metadata": {},
   "outputs": [
    {
     "name": "stdout",
     "output_type": "stream",
     "text": [
      "['Vilnius', 'Kaunas', 'Siauliai']\n"
     ]
    }
   ],
   "source": [
    "cities.remove ('Panevezys')\n",
    "print (cities)\n",
    "\n"
   ]
  },
  {
   "cell_type": "code",
   "execution_count": 197,
   "metadata": {},
   "outputs": [
    {
     "name": "stdout",
     "output_type": "stream",
     "text": [
      "['Vilnius', 'Kaunas', 'Siauliai', 'Siauliai', 'Panevezys']\n"
     ]
    }
   ],
   "source": [
    "cities.append ('Siauliai')\n",
    "cities.append ('Panevezys')\n",
    "print (cities)"
   ]
  },
  {
   "cell_type": "code",
   "execution_count": 198,
   "metadata": {},
   "outputs": [
    {
     "name": "stdout",
     "output_type": "stream",
     "text": [
      "['Vilnius', 'Kaunas', 'Siauliai', 'Siauliai']\n"
     ]
    }
   ],
   "source": [
    "cities.pop ()\n",
    "print (cities)"
   ]
  },
  {
   "cell_type": "code",
   "execution_count": 199,
   "metadata": {},
   "outputs": [
    {
     "name": "stdout",
     "output_type": "stream",
     "text": [
      "['Vilnius', 'Kaunas', 'Siauliai', 'Siauliai']\n",
      "po extend\n",
      "['Vilnius', 'Kaunas', 'Siauliai', 'Siauliai', 'New York', 'London']\n",
      "po append\n",
      "['Vilnius', 'Kaunas', 'Siauliai', 'Siauliai', ['New York', 'London']]\n"
     ]
    },
    {
     "data": {
      "text/plain": [
       "['New York', 'London']"
      ]
     },
     "execution_count": 199,
     "metadata": {},
     "output_type": "execute_result"
    }
   ],
   "source": [
    "new_cities = ['New York', 'London']\n",
    "print (cities)\n",
    "cities.extend (new_cities)\n",
    "print ('po extend')\n",
    "print (cities)\n",
    "cities.pop()\n",
    "cities.pop()\n",
    "cities.append (new_cities)\n",
    "print ('po append')\n",
    "print (cities)\n",
    "cities.pop()"
   ]
  },
  {
   "cell_type": "code",
   "execution_count": 200,
   "metadata": {},
   "outputs": [
    {
     "name": "stdout",
     "output_type": "stream",
     "text": [
      "[]\n"
     ]
    }
   ],
   "source": [
    "cities.clear()\n",
    "print(cities)"
   ]
  },
  {
   "cell_type": "code",
   "execution_count": 201,
   "metadata": {},
   "outputs": [
    {
     "data": {
      "text/plain": [
       "1"
      ]
     },
     "execution_count": 201,
     "metadata": {},
     "output_type": "execute_result"
    }
   ],
   "source": [
    "cities = ['Vilnius', 'Kaunas', 'Klaipeda', 'Siauliai', 'Panevezys', 'Panevezys']\n",
    "cities.count ('Panevezys')\n",
    "cities.count('Vilnius')"
   ]
  },
  {
   "cell_type": "code",
   "execution_count": 202,
   "metadata": {},
   "outputs": [
    {
     "name": "stdout",
     "output_type": "stream",
     "text": [
      "4\n"
     ]
    }
   ],
   "source": [
    "print (cities.index('Panevezys'))"
   ]
  },
  {
   "cell_type": "code",
   "execution_count": 203,
   "metadata": {},
   "outputs": [
    {
     "name": "stdout",
     "output_type": "stream",
     "text": [
      "['Vilnius', 'Kaunas', 'Klaipeda', 'Siauliai', 'Marijampole', 'Panevezys', 'Panevezys']\n"
     ]
    }
   ],
   "source": [
    "cities.insert (4, 'Marijampole')\n",
    "print (cities)"
   ]
  },
  {
   "cell_type": "code",
   "execution_count": 204,
   "metadata": {},
   "outputs": [
    {
     "name": "stdout",
     "output_type": "stream",
     "text": [
      "['Panevezys', 'Panevezys', 'Marijampole', 'Siauliai', 'Klaipeda', 'Kaunas', 'Vilnius']\n"
     ]
    }
   ],
   "source": [
    "cities.reverse ()\n",
    "print (cities)"
   ]
  },
  {
   "cell_type": "code",
   "execution_count": 205,
   "metadata": {},
   "outputs": [
    {
     "name": "stdout",
     "output_type": "stream",
     "text": [
      "['Vilnius', 'Kaunas', 'Klaipeda', 'Siauliai', 'Marijampole', 'Panevezys', 'Panevezys']\n",
      "['Panevezys', 'Panevezys', 'Marijampole', 'Siauliai', 'Klaipeda', 'Kaunas', 'Vilnius']\n"
     ]
    }
   ],
   "source": [
    "print (cities [::-1]) # apsuka sarasa neperaso kintamojo\n",
    "print (cities)"
   ]
  },
  {
   "cell_type": "code",
   "execution_count": 206,
   "metadata": {},
   "outputs": [
    {
     "name": "stdout",
     "output_type": "stream",
     "text": [
      "[1, 2, 6, 985, 5614, 6565, 458455]\n",
      "[458455, 6565, 5614, 985, 6, 2, 1]\n"
     ]
    }
   ],
   "source": [
    "numbers = [5614, 985, 458455, 1,2,6,6565]\n",
    "\n",
    "numbers.sort () # didejimo tvarka\n",
    "print (numbers)\n",
    "\n",
    "numbers.sort (reverse = True) # mazejimo tvarka\n",
    "print (numbers)"
   ]
  },
  {
   "cell_type": "code",
   "execution_count": 207,
   "metadata": {},
   "outputs": [
    {
     "name": "stdout",
     "output_type": "stream",
     "text": [
      "False\n",
      "True\n",
      "True\n",
      "True\n",
      "False\n"
     ]
    }
   ],
   "source": [
    "print (bool( []))\n",
    "print (bool( [5]))\n",
    "print (bool( [False,  0, '']))\n",
    "print ('Vilnius' in cities)\n",
    "print ('Kernave' in cities)"
   ]
  },
  {
   "cell_type": "code",
   "execution_count": 208,
   "metadata": {},
   "outputs": [
    {
     "name": "stdout",
     "output_type": "stream",
     "text": [
      "[1, 3, 58, 'A', False]\n"
     ]
    }
   ],
   "source": [
    "my_list = [1,3,58] + ['A', False]   # su minusu neveiks sitas\n",
    "print (my_list)"
   ]
  },
  {
   "cell_type": "code",
   "execution_count": 209,
   "metadata": {},
   "outputs": [
    {
     "name": "stdout",
     "output_type": "stream",
     "text": [
      "['first', 3, 58, 'first', 3, 58, 'first', 3, 58, 'first', 3, 58, 'first', 3, 58, 'first', 3, 58, 'first', 3, 58, 'first', 3, 58, 'first', 3, 58, 'first', 3, 58, 'first', 3, 58, 'first', 3, 58, 'first', 3, 58, 'first', 3, 58, 'first', 3, 58, 'first', 3, 58, 'first', 3, 58, 'first', 3, 58, 'first', 3, 58, 'first', 3, 58, 'first', 3, 58, 'first', 3, 58, 'first', 3, 58, 'first', 3, 58, 'first', 3, 58, 'first', 3, 58, 'first', 3, 58, 'first', 3, 58, 'first', 3, 58, 'first', 3, 58, 'first', 3, 58, 'first', 3, 58, 'first', 3, 58, 'first', 3, 58, 'first', 3, 58, 'first', 3, 58, 'first', 3, 58, 'first', 3, 58, 'first', 3, 58, 'first', 3, 58, 'first', 3, 58, 'first', 3, 58, 'first', 3, 58, 'first', 3, 58, 'first', 3, 58, 'first', 3, 58, 'first', 3, 58, 'first', 3, 58, 'first', 3, 58, 'first', 3, 58]\n"
     ]
    }
   ],
   "source": [
    "my_list = ['first', 3,58] * 50\n",
    "print (my_list)"
   ]
  },
  {
   "cell_type": "markdown",
   "metadata": {},
   "source": [
    "Mutable vs. Immutable variables"
   ]
  },
  {
   "cell_type": "code",
   "execution_count": 210,
   "metadata": {},
   "outputs": [
    {
     "name": "stdout",
     "output_type": "stream",
     "text": [
      "1861205295504\n",
      "1861205295504\n",
      "6\n",
      "13\n",
      "1861205295504\n",
      "1861205295728\n"
     ]
    }
   ],
   "source": [
    "# Immutable\n",
    "\n",
    "number_1 = 6\n",
    "number_2 = number_1\n",
    "print (id(number_1))\n",
    "print (id(number_2))\n",
    "number_2 = 13\n",
    "print (number_1)\n",
    "print (number_2)\n",
    "print (id(number_1))\n",
    "print (id(number_2))"
   ]
  },
  {
   "cell_type": "code",
   "execution_count": 211,
   "metadata": {},
   "outputs": [
    {
     "name": "stdout",
     "output_type": "stream",
     "text": [
      "1861322370560\n",
      "1861322370560\n",
      "[1, 5, 10, 13]\n",
      "[1, 5, 10, 13]\n"
     ]
    }
   ],
   "source": [
    "# mutable\n",
    "\n",
    "numbers_1 = [1,5,10]\n",
    "numbers_2 = numbers_1\n",
    "print (id(numbers_1))\n",
    "print (id(numbers_2))\n",
    "numbers_2. append(13)\n",
    "print (numbers_1)\n",
    "print (numbers_2)"
   ]
  },
  {
   "cell_type": "code",
   "execution_count": 212,
   "metadata": {},
   "outputs": [
    {
     "name": "stdout",
     "output_type": "stream",
     "text": [
      "1861323006912\n",
      "1861322892800\n",
      "[1, 5, 10]\n",
      "[1, 5, 10, 13]\n"
     ]
    }
   ],
   "source": [
    "# fix 1 for mutable variables\n",
    "\n",
    "numbers_1 = [1,5,10]\n",
    "numbers_2 = numbers_1.copy()\n",
    "print (id(numbers_1))\n",
    "print (id(numbers_2))\n",
    "numbers_2. append(13)\n",
    "print (numbers_1)\n",
    "print (numbers_2)"
   ]
  },
  {
   "cell_type": "code",
   "execution_count": 213,
   "metadata": {},
   "outputs": [
    {
     "name": "stdout",
     "output_type": "stream",
     "text": [
      "1861322956928\n",
      "1861322235072\n"
     ]
    },
    {
     "ename": "NameError",
     "evalue": "name 'pritn' is not defined",
     "output_type": "error",
     "traceback": [
      "\u001b[1;31m---------------------------------------------------------------------------\u001b[0m",
      "\u001b[1;31mNameError\u001b[0m                                 Traceback (most recent call last)",
      "\u001b[1;32mc:\\Users\\Greta\\Desktop\\Document Phyton\\python_mokymai\\Paskaita_2.ipynb Cell 37'\u001b[0m in \u001b[0;36m<module>\u001b[1;34m\u001b[0m\n\u001b[0;32m      <a href='vscode-notebook-cell:/c%3A/Users/Greta/Desktop/Document%20Phyton/python_mokymai/Paskaita_2.ipynb#ch0000040?line=2'>3</a>\u001b[0m \u001b[39mprint\u001b[39m (\u001b[39mid\u001b[39m(numbers_1))\n\u001b[0;32m      <a href='vscode-notebook-cell:/c%3A/Users/Greta/Desktop/Document%20Phyton/python_mokymai/Paskaita_2.ipynb#ch0000040?line=3'>4</a>\u001b[0m \u001b[39mprint\u001b[39m (\u001b[39mid\u001b[39m(numbers_2))\n\u001b[1;32m----> <a href='vscode-notebook-cell:/c%3A/Users/Greta/Desktop/Document%20Phyton/python_mokymai/Paskaita_2.ipynb#ch0000040?line=4'>5</a>\u001b[0m pritn\n\u001b[0;32m      <a href='vscode-notebook-cell:/c%3A/Users/Greta/Desktop/Document%20Phyton/python_mokymai/Paskaita_2.ipynb#ch0000040?line=5'>6</a>\u001b[0m numbers_2 [\u001b[39m2\u001b[39m]\u001b[39m.\u001b[39m append(\u001b[39m13\u001b[39m)\n\u001b[0;32m      <a href='vscode-notebook-cell:/c%3A/Users/Greta/Desktop/Document%20Phyton/python_mokymai/Paskaita_2.ipynb#ch0000040?line=6'>7</a>\u001b[0m \u001b[39mprint\u001b[39m (numbers_1)\n",
      "\u001b[1;31mNameError\u001b[0m: name 'pritn' is not defined"
     ]
    }
   ],
   "source": [
    "\n",
    "numbers_1 = [1,5,[10, 20] ]\n",
    "numbers_2 = numbers_1.copy() # will fail\n",
    "print (id(numbers_1))\n",
    "print (id(numbers_2))\n",
    "pritn\n",
    "numbers_2 [2]. append(13)\n",
    "print (numbers_1)\n",
    "print (numbers_2)"
   ]
  },
  {
   "cell_type": "code",
   "execution_count": null,
   "metadata": {},
   "outputs": [
    {
     "name": "stdout",
     "output_type": "stream",
     "text": [
      "1861322761920\n",
      "1861322785152\n",
      "[1, 5, [10, 20]]\n",
      "[1, 5, [10, 20, 13]]\n"
     ]
    }
   ],
   "source": [
    "# best fix for mutable\n",
    "import copy\n",
    "\n",
    "numbers_1 = [1,5,[10, 20] ]\n",
    "numbers_2 = copy.deepcopy (numbers_1) \n",
    "print (id(numbers_1))\n",
    "print (id(numbers_2))\n",
    "numbers_2 [2]. append(13)\n",
    "print (numbers_1)\n",
    "print (numbers_2)"
   ]
  },
  {
   "cell_type": "code",
   "execution_count": null,
   "metadata": {},
   "outputs": [
    {
     "name": "stdout",
     "output_type": "stream",
     "text": [
      "4\n",
      "['pomidoras', 'desra', 'avokadas', 'sausainis', 'salota']\n",
      "True\n"
     ]
    }
   ],
   "source": [
    "pirkiniai = ['pomidoras', 'desra', 'avokadas', 'sausainis']\n",
    "print (len(pirkiniai))\n",
    "pirkiniai.append('salota')\n",
    "print(pirkiniai)\n",
    "\n",
    "print ('desra' in pirkiniai)\n"
   ]
  },
  {
   "cell_type": "code",
   "execution_count": null,
   "metadata": {},
   "outputs": [
    {
     "name": "stdout",
     "output_type": "stream",
     "text": [
      "[65, 85, 45, 1, 2, 3]\n",
      "[65, 85, 45, 1, 2]\n",
      "[1, 2, 45, 65, 85]\n",
      "1\n"
     ]
    }
   ],
   "source": [
    "sarasas1 = [65,85,45] + [1,2,3]\n",
    "print (sarasas1)\n",
    "sarasas1.pop ()\n",
    "print (sarasas1)\n",
    "sarasas1.sort()\n",
    "print(sarasas1)\n",
    "print (sarasas1.count(85))\n"
   ]
  },
  {
   "cell_type": "code",
   "execution_count": null,
   "metadata": {},
   "outputs": [
    {
     "name": "stdout",
     "output_type": "stream",
     "text": [
      "[1, [[5416], 521, 4], 54]\n",
      "[[5416], 521, 4]\n",
      "[5416]\n"
     ]
    }
   ],
   "source": [
    "my_list_2 = [1, [[5416], 521,4], 54]\n",
    "print(my_list_2)\n",
    "print(my_list_2[1])\n",
    "print(my_list_2[1][0])"
   ]
  },
  {
   "cell_type": "markdown",
   "metadata": {},
   "source": [
    "Tuple"
   ]
  },
  {
   "cell_type": "code",
   "execution_count": null,
   "metadata": {},
   "outputs": [
    {
     "name": "stdout",
     "output_type": "stream",
     "text": [
      "(1, 2, 3)\n",
      "2\n",
      "(1, 2)\n"
     ]
    }
   ],
   "source": [
    "my_tuple = (1,2,3)\n",
    "print(my_tuple)\n",
    "print(my_tuple[1])\n",
    "print(my_tuple [:2])"
   ]
  },
  {
   "cell_type": "code",
   "execution_count": null,
   "metadata": {},
   "outputs": [
    {
     "name": "stdout",
     "output_type": "stream",
     "text": [
      "1\n",
      "2\n"
     ]
    }
   ],
   "source": [
    "print (my_tuple.count(3))\n",
    "print (my_tuple.index(3))"
   ]
  },
  {
   "cell_type": "code",
   "execution_count": null,
   "metadata": {},
   "outputs": [
    {
     "name": "stdout",
     "output_type": "stream",
     "text": [
      "(1, 4, 4, 5, 5, 5)\n",
      "True\n"
     ]
    }
   ],
   "source": [
    "combined = (1,4,4) + (5,5,5,)\n",
    "print(combined)\n",
    "print(5 in combined)"
   ]
  },
  {
   "cell_type": "code",
   "execution_count": null,
   "metadata": {},
   "outputs": [
    {
     "name": "stdout",
     "output_type": "stream",
     "text": [
      "(1, 5, [4, 8])\n"
     ]
    }
   ],
   "source": [
    "my_tuple_2 = (1,5,[4,8])\n",
    "print (my_tuple_2)"
   ]
  },
  {
   "cell_type": "code",
   "execution_count": null,
   "metadata": {},
   "outputs": [
    {
     "name": "stdout",
     "output_type": "stream",
     "text": [
      "(1, 5, [4, 8, 100])\n"
     ]
    }
   ],
   "source": [
    "my_tuple_2[2]. append(100)\n",
    "print(my_tuple_2)"
   ]
  },
  {
   "cell_type": "code",
   "execution_count": null,
   "metadata": {},
   "outputs": [
    {
     "name": "stdout",
     "output_type": "stream",
     "text": [
      "8\n",
      "8\n"
     ]
    }
   ],
   "source": [
    "my_tuple = (1, 2, ['3', 4, 5], [6, [7, (8)]])\n",
    "print (my_tuple[3][1][1])\n",
    "print (my_tuple[-1][-1][-1])"
   ]
  },
  {
   "cell_type": "code",
   "execution_count": null,
   "metadata": {},
   "outputs": [
    {
     "name": "stdout",
     "output_type": "stream",
     "text": [
      "(11, [222, 22], 44, 55)\n"
     ]
    }
   ],
   "source": [
    "tuple1 = (11, [222, 33], 44, 55)\n",
    "tuple1[1][-1] = 22\n",
    "print (tuple1)\n"
   ]
  },
  {
   "cell_type": "code",
   "execution_count": null,
   "metadata": {},
   "outputs": [
    {
     "name": "stdout",
     "output_type": "stream",
     "text": [
      "[11, [222, 33], 44, 55]\n",
      "(11, [222.22], 44, 55)\n"
     ]
    }
   ],
   "source": [
    "tuple1 = (11, [222, 33], 44, 55)  # pakeitimas i sarasa\n",
    "tmp_list = list(tuple1)\n",
    "print(tmp_list)\n",
    "tmp_list[1] = [222.22]\n",
    "tuple1 = tuple(tmp_list)\n",
    "print(tuple1)"
   ]
  },
  {
   "cell_type": "markdown",
   "metadata": {},
   "source": [
    "Range"
   ]
  },
  {
   "cell_type": "code",
   "execution_count": 216,
   "metadata": {},
   "outputs": [
    {
     "name": "stdout",
     "output_type": "stream",
     "text": [
      "<class 'range'>\n",
      "range(54, 158, 3)\n",
      "[54, 57, 60, 63, 66, 69, 72, 75, 78, 81, 84, 87, 90, 93, 96, 99, 102, 105, 108, 111, 114, 117, 120, 123, 126, 129, 132, 135, 138, 141, 144, 147, 150, 153, 156]\n"
     ]
    }
   ],
   "source": [
    "my_number = range(54, 158,3)\n",
    "print (type(my_number))\n",
    "print(my_number)\n",
    "print(list(my_number))"
   ]
  },
  {
   "cell_type": "code",
   "execution_count": 219,
   "metadata": {},
   "outputs": [
    {
     "name": "stdout",
     "output_type": "stream",
     "text": [
      "[50, 43, 36, 29, 22, 15, 8, 1, -6, -13, -20, -27, -34, -41, -48, -55, -62, -69, -76, -83, -90, -97, -104, -111, -118, -125, -132, -139, -146, -153]\n",
      "[20, 22, 24, 26, 28, 30, 32, 34, 36, 38, 40, 42, 44, 46, 48, 50, 52, 54, 56, 58, 60, 62, 64, 66, 68, 70, 72, 74, 76, 78, 80]\n"
     ]
    }
   ],
   "source": [
    "print(list(range(50, -158,-7)))\n",
    "print(list(range(20, 81,2)))"
   ]
  },
  {
   "cell_type": "code",
   "execution_count": 220,
   "metadata": {},
   "outputs": [
    {
     "data": {
      "text/plain": [
       "['Panevezys',\n",
       " 'Panevezys',\n",
       " 'Marijampole',\n",
       " 'Siauliai',\n",
       " 'Klaipeda',\n",
       " 'Kaunas',\n",
       " 'Vilnius']"
      ]
     },
     "execution_count": 220,
     "metadata": {},
     "output_type": "execute_result"
    }
   ],
   "source": [
    "cities"
   ]
  },
  {
   "cell_type": "code",
   "execution_count": 224,
   "metadata": {},
   "outputs": [
    {
     "name": "stdout",
     "output_type": "stream",
     "text": [
      "ciklas prasidejo\n",
      "3\n",
      "pabaiga\n",
      "ciklas prasidejo\n",
      "5\n",
      "pabaiga\n",
      "ciklas prasidejo\n",
      "7\n",
      "pabaiga\n",
      "ciklas prasidejo\n",
      "9\n",
      "pabaiga\n"
     ]
    }
   ],
   "source": [
    "for number in range (3,11,2):\n",
    "    print('ciklas prasidejo')\n",
    "    print(number)\n",
    "    print('pabaiga')"
   ]
  },
  {
   "cell_type": "code",
   "execution_count": null,
   "metadata": {},
   "outputs": [],
   "source": []
  }
 ],
 "metadata": {
  "interpreter": {
   "hash": "70a6c9a37cb58f7fafd514d0bfb6be7e5d3796d2f32086c8e99fdf34e5a26a64"
  },
  "kernelspec": {
   "display_name": "Python 3.10.2 64-bit",
   "language": "python",
   "name": "python3"
  },
  "language_info": {
   "codemirror_mode": {
    "name": "ipython",
    "version": 3
   },
   "file_extension": ".py",
   "mimetype": "text/x-python",
   "name": "python",
   "nbconvert_exporter": "python",
   "pygments_lexer": "ipython3",
   "version": "3.10.2"
  },
  "orig_nbformat": 4
 },
 "nbformat": 4,
 "nbformat_minor": 2
}
