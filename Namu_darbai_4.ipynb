{
 "cells": [
  {
   "cell_type": "markdown",
   "metadata": {},
   "source": [
    "# 1"
   ]
  },
  {
   "cell_type": "code",
   "execution_count": 8,
   "metadata": {},
   "outputs": [
    {
     "name": "stdout",
     "output_type": "stream",
     "text": [
      "[8, 9, 3, 15]\n"
     ]
    }
   ],
   "source": [
    "a = [1,2,3,4,5,6,7,8,9,15]\n",
    "b = [3,8,9,11,15]\n",
    "\n",
    "set(a).intersection(b)\n",
    "c = list(set(a).intersection(b))\n",
    "print(c)"
   ]
  },
  {
   "cell_type": "markdown",
   "metadata": {},
   "source": [
    "# 2"
   ]
  },
  {
   "cell_type": "code",
   "execution_count": 10,
   "metadata": {},
   "outputs": [
    {
     "name": "stdout",
     "output_type": "stream",
     "text": [
      "[1, 5, 2, 8, 10, 14, 900, 800, 12]\n"
     ]
    }
   ],
   "source": [
    "x = [1, 5, 1, 2, 8, -9, 10, 1, -8, -900, 14, 5, -8, 2, 1, -20, 900, 800, -6, -8, 12, 1]\n",
    "y = []\n",
    "\n",
    "for number in x:\n",
    "    if number > 0:\n",
    "        if number not in y:\n",
    "            y.append(number)\n",
    "print(y)"
   ]
  },
  {
   "cell_type": "markdown",
   "metadata": {},
   "source": [
    "# 3"
   ]
  },
  {
   "cell_type": "code",
   "execution_count": 22,
   "metadata": {},
   "outputs": [],
   "source": [
    "def funkcija_3(x):\n",
    "    number = 0\n",
    "    letters = 0\n",
    "    space = 0\n",
    "    other = 0\n",
    "    for symbol in x:\n",
    "        if symbol.isalpha():\n",
    "            letters += 1\n",
    "        elif symbol.isnumeric():\n",
    "            number += 1\n",
    "        elif symbol.isspace():\n",
    "            space += 1\n",
    "        else:\n",
    "            other += 1\n",
    "    return f'Skaiciu yra {number}, raidziu yra {letters}, tarpu yra {space}, kitu symboliu yra {other}'\n",
    "\n",
    "\n"
   ]
  },
  {
   "cell_type": "code",
   "execution_count": 27,
   "metadata": {},
   "outputs": [
    {
     "data": {
      "text/plain": [
       "'Skaiciu yra 2, raidziu yra 29, tarpu yra 8, kitu symboliu yra 3'"
      ]
     },
     "execution_count": 27,
     "metadata": {},
     "output_type": "execute_result"
    }
   ],
   "source": [
    "funkcija_3('my daddy was a milkman that had 13 cows...')"
   ]
  },
  {
   "cell_type": "markdown",
   "metadata": {},
   "source": [
    "# 4"
   ]
  },
  {
   "cell_type": "code",
   "execution_count": 29,
   "metadata": {},
   "outputs": [],
   "source": [
    "def funkcija_4(x):\n",
    "    max_reiksme = max(x)\n",
    "    min_reiksme = min(x)\n",
    "    return max_reiksme - min_reiksme\n"
   ]
  },
  {
   "cell_type": "code",
   "execution_count": 31,
   "metadata": {},
   "outputs": [
    {
     "name": "stdout",
     "output_type": "stream",
     "text": [
      "9\n"
     ]
    }
   ],
   "source": [
    "funkcija_4([1, 5, 6, 10, 4])\n",
    "\n"
   ]
  },
  {
   "cell_type": "markdown",
   "metadata": {},
   "source": [
    "# 5"
   ]
  },
  {
   "cell_type": "code",
   "execution_count": 39,
   "metadata": {},
   "outputs": [],
   "source": [
    "def funkcija_5(x):\n",
    "    for count in range(len(x)-1):\n",
    "        if x[count+1] - x[count] == 1:\n",
    "            print(f'Tarp skaiciu {x[count]} ir {x[count+1]} anomalijos nera')\n",
    "        else:\n",
    "            print (f'Anomalija yra. Skaiciai {x[count]} ir {x[count+1]} nera einantys vienas po kito')        \n",
    "    \n",
    "    # for count, item in enumerate(x):\n",
    "    #     if x[count+1] - item == 1:\n",
    "    #         print(f'Tarp skaiciu {item} ir {x[count+1]} anomalijos nera')\n",
    "    #     else:\n",
    "    #         print (f'Anomalija yra. Skaiciai {item} ir {x[count+1]} nera einantys vienas po kito')"
   ]
  },
  {
   "cell_type": "code",
   "execution_count": 40,
   "metadata": {},
   "outputs": [
    {
     "name": "stdout",
     "output_type": "stream",
     "text": [
      "Tarp skaiciu 17 ir 18 anomalijos nera\n",
      "Tarp skaiciu 18 ir 19 anomalijos nera\n",
      "Anomalija yra. Skaiciai 19 ir 21 nera einantys vienas po kito\n"
     ]
    }
   ],
   "source": [
    "funkcija_5([17,18,19,21])"
   ]
  },
  {
   "cell_type": "markdown",
   "metadata": {},
   "source": [
    "# 6"
   ]
  },
  {
   "cell_type": "code",
   "execution_count": 62,
   "metadata": {},
   "outputs": [],
   "source": [
    "def funkcija_6(x):\n",
    "     sandauga = float('-inf')\n",
    "     for count in range(len(x)-1):\n",
    "         if x[count] * x[count + 1] > sandauga:\n",
    "             sandauga = x[count] * x[count + 1] \n",
    "     return sandauga \n"
   ]
  },
  {
   "cell_type": "code",
   "execution_count": 63,
   "metadata": {},
   "outputs": [
    {
     "data": {
      "text/plain": [
       "21"
      ]
     },
     "execution_count": 63,
     "metadata": {},
     "output_type": "execute_result"
    }
   ],
   "source": [
    "funkcija_6([3, 6, -2, -5, 7, 3])\n"
   ]
  }
 ],
 "metadata": {
  "interpreter": {
   "hash": "70a6c9a37cb58f7fafd514d0bfb6be7e5d3796d2f32086c8e99fdf34e5a26a64"
  },
  "kernelspec": {
   "display_name": "Python 3.10.2 64-bit",
   "language": "python",
   "name": "python3"
  },
  "language_info": {
   "codemirror_mode": {
    "name": "ipython",
    "version": 3
   },
   "file_extension": ".py",
   "mimetype": "text/x-python",
   "name": "python",
   "nbconvert_exporter": "python",
   "pygments_lexer": "ipython3",
   "version": "3.10.2"
  },
  "orig_nbformat": 4
 },
 "nbformat": 4,
 "nbformat_minor": 2
}
