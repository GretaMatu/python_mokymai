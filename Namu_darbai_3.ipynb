{
 "cells": [
  {
   "cell_type": "markdown",
   "metadata": {},
   "source": [
    "# 1 "
   ]
  },
  {
   "cell_type": "code",
   "execution_count": null,
   "metadata": {},
   "outputs": [],
   "source": [
    "for number in range(1,101):\n",
    "    if number % 2 == 0 and number % 3 == 0:\n",
    "        print('FizzBuzz')\n",
    "    elif number % 2 == 0:\n",
    "        print('Fizz')\n",
    "    elif number % 3 == 0:\n",
    "        print('Buzz')"
   ]
  },
  {
   "cell_type": "markdown",
   "metadata": {},
   "source": [
    "# 2 "
   ]
  },
  {
   "cell_type": "code",
   "execution_count": null,
   "metadata": {},
   "outputs": [],
   "source": [
    "input_number = int(input('Skaicius'))\n",
    "\n",
    "if input_number >= 10:\n",
    "    for number in range (0, input_number): \n",
    "        if number % 5 != 0:\n",
    "            print(number)"
   ]
  },
  {
   "cell_type": "markdown",
   "metadata": {},
   "source": [
    "# 3"
   ]
  },
  {
   "cell_type": "code",
   "execution_count": 47,
   "metadata": {},
   "outputs": [
    {
     "name": "stdout",
     "output_type": "stream",
     "text": [
      "100\n"
     ]
    }
   ],
   "source": [
    "a = ['1','2','3','4','5']\n",
    "b = ['labas', 'vakaras', 'kokia grazi diena', 'siandien uz lango', '10 laipsniu silumos']\n",
    "c = ['100', '200', 40, 10]\n",
    "\n",
    "kombinacijos = []\n",
    "\n",
    "for aa in a:\n",
    "    for bb in b:\n",
    "        for cc in c:\n",
    "            kombinacijos.append((aa,bb,cc))\n",
    "print(len(kombinacijos))\n",
    "\n"
   ]
  },
  {
   "cell_type": "code",
   "execution_count": 40,
   "metadata": {},
   "outputs": [],
   "source": [
    "from operator import itemgetter"
   ]
  },
  {
   "cell_type": "code",
   "execution_count": null,
   "metadata": {},
   "outputs": [],
   "source": [
    "sorted_kombinacijos = sorted(kombinacijos, key= itemgetter(0), reverse= True)\n",
    "\n",
    "print(sorted_kombinacijos)"
   ]
  },
  {
   "cell_type": "markdown",
   "metadata": {},
   "source": [
    "# 4 "
   ]
  },
  {
   "cell_type": "code",
   "execution_count": 56,
   "metadata": {},
   "outputs": [
    {
     "name": "stdout",
     "output_type": "stream",
     "text": [
      "14943.959999999997\n"
     ]
    },
    {
     "data": {
      "text/plain": [
       "14943.96"
      ]
     },
     "execution_count": 56,
     "metadata": {},
     "output_type": "execute_result"
    }
   ],
   "source": [
    "x = { \n",
    "\"cost_price\": 32.67,\n",
    "\"sell_price\": 45.00,\n",
    "\"inventory\": 1212 }\n",
    "\n",
    "pelnas = (x['sell_price'] - x['cost_price']) * x['inventory']\n",
    "print(pelnas)\n",
    "\n",
    "round(pelnas, 2)\n"
   ]
  },
  {
   "cell_type": "code",
   "execution_count": null,
   "metadata": {},
   "outputs": [],
   "source": []
  }
 ],
 "metadata": {
  "interpreter": {
   "hash": "70a6c9a37cb58f7fafd514d0bfb6be7e5d3796d2f32086c8e99fdf34e5a26a64"
  },
  "kernelspec": {
   "display_name": "Python 3.10.2 64-bit",
   "language": "python",
   "name": "python3"
  },
  "language_info": {
   "codemirror_mode": {
    "name": "ipython",
    "version": 3
   },
   "file_extension": ".py",
   "mimetype": "text/x-python",
   "name": "python",
   "nbconvert_exporter": "python",
   "pygments_lexer": "ipython3",
   "version": "3.10.2"
  },
  "orig_nbformat": 4
 },
 "nbformat": 4,
 "nbformat_minor": 2
}
